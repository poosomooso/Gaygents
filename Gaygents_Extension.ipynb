{
 "cells": [
  {
   "cell_type": "code",
   "execution_count": 1,
   "metadata": {
    "collapsed": true
   },
   "outputs": [],
   "source": [
    "from __future__ import print_function, division\n",
    "\n",
    "# %matplotlib inline\n",
    "# %precision 3\n",
    "\n",
    "import warnings\n",
    "warnings.filterwarnings('ignore')\n",
    "\n",
    "import numpy as np\n",
    "import matplotlib.pyplot as plt\n",
    "\n",
    "from marriages_replication import *\n",
    "\n",
    "# from matplotlib import rc\n",
    "# rc('animation', html='html5')"
   ]
  },
  {
   "cell_type": "code",
   "execution_count": 2,
   "metadata": {
    "collapsed": true
   },
   "outputs": [],
   "source": [
    "def runSimBi(agents_per_race, races, prob_intra, prob_inter):\n",
    "    agents = agents_per_race*races\n",
    "    genders=getGender(agents_per_race,races)\n",
    "    social_beliefs, political_beliefs = createPersonality(agents_per_race, races)\n",
    "    adj, adj2, adj3 = createAdj(agents_per_race, races, prob_inter=prob_inter, prob_intra=prob_intra)\n",
    "    distances = getPersonalityDistances(agents, adj, genders, social_beliefs, political_beliefs, bisexuals=True)\n",
    "    marriage, distances = createMarriages(agents, distances,genders)\n",
    "    avg_dist = averageDistances(distances, marriage)\n",
    "    num_intra = numIntraracial(marriage, agents_per_race, races)\n",
    "    num_inter = numInterracial(num_intra, marriage)\n",
    "    diversity,percent_married,compatibility = welfareRatios(num_intra, num_inter, marriage, races, agents_per_race, avg_dist)\n",
    "    return diversity,percent_married,compatibility"
   ]
  },
  {
   "cell_type": "code",
   "execution_count": 3,
   "metadata": {},
   "outputs": [
    {
     "name": "stdout",
     "output_type": "stream",
     "text": [
      "[ 0.          0.07142857  0.14285714  0.21428571  0.28571429  0.35714286\n",
      "  0.42857143  0.5         0.57142857  0.64285714  0.71428571  0.78571429\n",
      "  0.85714286  0.92857143  1.        ]\n"
     ]
    },
    {
     "data": {
      "image/png": "[encoded data removed]",
      "text/plain": [
       "<matplotlib.figure.Figure at 0x7f95921f2b70>"
      ]
     },
     "metadata": {},
     "output_type": "display_data"
    },
    {
     "data": {
      "image/png": "[encoded data removed]",
      "text/plain": [
       "<matplotlib.figure.Figure at 0x7f958fff86a0>"
      ]
     },
     "metadata": {},
     "output_type": "display_data"
    }
   ],
   "source": [
    "\n",
    "probabilities = np.linspace(0.0, 1.0, num=15, dtype=float)\n",
    "num_sims = 30\n",
    "print(probabilities)\n",
    "\n",
    "diversities = []\n",
    "strengths = []\n",
    "\n",
    "for prob_interracial in probabilities:\n",
    "    div_sum = 0.0\n",
    "    str_sum = 0.0\n",
    "    for _ in range(num_sims):\n",
    "        div, married, strength = runSimBi(50, 2, 1.0, prob_interracial)\n",
    "        div_sum += div\n",
    "        str_sum += strength\n",
    "    diversities.append(div_sum/num_sims)\n",
    "    strengths.append(str_sum/num_sims)\n",
    "\n",
    "plt.figure()\n",
    "plt.plot(probabilities, diversities, label='diversities')\n",
    "plt.figure()\n",
    "plt.plot(probabilities, strengths, label='strengths')\n",
    "plt.show()"
   ]
  },
  {
   "cell_type": "markdown",
   "metadata": {},
   "source": [
    "Design considerations:\n",
    "\n",
    "* How to represent sexuality\n",
    "    * hard \"gay\" \"straight\" \"bisexual\" or a spectrum\n",
    "* Can you point to people who will never be atracted to you\n",
    "* How gender representation changes\n",
    "* \n",
    "\n",
    "Other things:\n",
    "\n",
    "* \\# of times to run the simulation\n",
    "* number of races\n",
    "* number of people to represent life better\n",
    "\n",
    "Allen Downey:\n",
    "* just run the simulation a bunch and plot them all\n",
    "* distributional differences of personality traits between men and women (or other groups)\n",
    "* step 1: single community (no bipartite)\n",
    "* step 2: give groups diff characteristics\n"
   ]
  },
  {
   "cell_type": "code",
   "execution_count": 2,
   "metadata": {
    "collapsed": true
   },
   "outputs": [],
   "source": [
    "def runSimDiffTraits(agents_per_race, races, prob_intra, prob_inter):\n",
    "    agents = agents_per_race*races\n",
    "    genders=getGender(agents_per_race,races)\n",
    "    social_beliefs, political_beliefs = createPersonality(agents_per_race, races, gender_matrix=genders)\n",
    "    adj, adj2, adj3 = createAdj(agents_per_race, races, prob_inter=prob_inter, prob_intra=prob_intra)\n",
    "    distances = getPersonalityDistances(agents, adj, genders, social_beliefs, political_beliefs, bisexuals=True)\n",
    "    marriage, distances = createMarriages(agents, distances,genders)\n",
    "    avg_dist = averageDistances(distances, marriage)\n",
    "    num_intra = numIntraracial(marriage, agents_per_race, races)\n",
    "    num_inter = numInterracial(num_intra, marriage)\n",
    "    diversity,percent_married,compatibility = welfareRatios(num_intra, num_inter, marriage, races, agents_per_race, avg_dist)\n",
    "    mw, mm, ww = genderRatios(marriage, agents, genders)\n",
    "    return diversity,percent_married,compatibility, mw, mm, ww"
   ]
  },
  {
   "cell_type": "code",
   "execution_count": 3,
   "metadata": {
    "scrolled": true
   },
   "outputs": [
    {
     "data": {
      "text/plain": [
       "(0.61224489795918369, 0.97999999999999998, 0.95636545298636089, 0, 50, 50)"
      ]
     },
     "execution_count": 3,
     "metadata": {},
     "output_type": "execute_result"
    }
   ],
   "source": [
    "runSimDiffTraits(50, 2, 1.0, 0.4)\n",
    "# probabilities = np.linspace(0.0, 1.0, num=15, dtype=float)\n",
    "# num_sims = 30\n",
    "# print(probabilities)\n",
    "\n",
    "# diversities = []\n",
    "# strengths = []\n",
    "\n",
    "# for prob_interracial in probabilities:\n",
    "#     div_sum = 0.0\n",
    "#     str_sum = 0.0\n",
    "#     for _ in range(num_sims):\n",
    "#         div, married, strength = runSimDiffTraits(50, 2, 1.0, prob_interracial)\n",
    "#         div_sum += div\n",
    "#         str_sum += strength\n",
    "#     diversities.append(div_sum/num_sims)\n",
    "#     strengths.append(str_sum/num_sims)\n",
    "\n",
    "# plt.figure()\n",
    "# plt.plot(probabilities, diversities, label='diversities')\n",
    "# plt.figure()\n",
    "# plt.plot(probabilities, strengths, label='strengths')\n",
    "# plt.show()"
   ]
  },
  {
   "cell_type": "code",
   "execution_count": null,
   "metadata": {
    "collapsed": true
   },
   "outputs": [],
   "source": []
  }
 ],
 "metadata": {
  "kernelspec": {
   "display_name": "Python 3",
   "language": "python",
   "name": "python3"
  },
  "language_info": {
   "codemirror_mode": {
    "name": "ipython",
    "version": 3
   },
   "file_extension": ".py",
   "mimetype": "text/x-python",
   "name": "python",
   "nbconvert_exporter": "python",
   "pygments_lexer": "ipython3",
   "version": "3.6.1"
  }
 },
 "nbformat": 4,
 "nbformat_minor": 2
}
