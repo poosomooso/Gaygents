{
 "cells": [
  {
   "cell_type": "markdown",
   "metadata": {},
   "source": [
    "# Agent-Based Modeling of Marriages from Online Dating\n",
    "\n",
    "#### Serena Chen and Apurva Raman"
   ]
  },
  {
   "cell_type": "markdown",
   "metadata": {},
   "source": [
    "### Replicating the experiment in the [Strength of Absent Ties: Social Integration via Online Dating](https://arxiv.org/pdf/1709.10478.pdf.)"
   ]
  },
  {
   "cell_type": "code",
   "execution_count": 5,
   "metadata": {},
   "outputs": [],
   "source": [
    "from __future__ import print_function, division\n",
    "\n",
    "# %matplotlib inline\n",
    "# %precision 3\n",
    "\n",
    "import warnings\n",
    "warnings.filterwarnings('ignore')\n",
    "\n",
    "import numpy as np\n",
    "import matplotlib.pyplot as plt\n",
    "\n",
    "# from matplotlib import rc\n",
    "# rc('animation', html='html5')"
   ]
  },
  {
   "cell_type": "code",
   "execution_count": 75,
   "metadata": {},
   "outputs": [],
   "source": [
    "def getGender(agents_per_race, race):\n",
    "    women_per_race = agents_per_race//2\n",
    "    women_matrix = np.ones((women_per_race, race))\n",
    "    men_matrix= np.zeros((women_per_race, race))\n",
    "    leftovers = np.random.randint(low=0, high=2, size=(agents_per_race-2*women_per_race,race))# high is exclusive, generates 0 and 1\n",
    "    gender_matrix = np.concatenate((women_matrix, men_matrix, leftovers))\n",
    "    \n",
    "    # generate random matrix to shuffle columns of gender_matrix\n",
    "    rand_matrix = np.random.random(gender_matrix.shape)\n",
    "    \n",
    "    row_indices = np.argsort(rand_matrix, axis=0)\n",
    "    \n",
    "    # Preserve order of columns\n",
    "    col_indices = np.arange(gender_matrix.shape[1])[None, :]\n",
    "   \n",
    "    gender_matrix = gender_matrix[row_indices, col_indices]\n",
    "    \n",
    "    return np.transpose(gender_matrix)"
   ]
  },
  {
   "cell_type": "code",
   "execution_count": 80,
   "metadata": {},
   "outputs": [
    {
     "name": "stdout",
     "output_type": "stream",
     "text": [
      "[[ 1.  0.  1.]\n",
      " [ 1.  0.  1.]]\n"
     ]
    }
   ],
   "source": [
    "agents_per_race = 3\n",
    "races = 2\n",
    "genders=getGender(agents_per_race,races)\n",
    "print(genders)"
   ]
  },
  {
   "cell_type": "code",
   "execution_count": 81,
   "metadata": {
    "collapsed": true
   },
   "outputs": [],
   "source": [
    "def createPersonality(agents_per_race, race):\n",
    "    social_beliefs = np.random.randint(low=0, high=2, size=(1, race*agents_per_race))\n",
    "    political_beliefs = np.random.randint(low=0, high=2, size=(1, race*agents_per_race))\n",
    "    return (social_beliefs, political_beliefs)\n",
    "   "
   ]
  },
  {
   "cell_type": "code",
   "execution_count": 82,
   "metadata": {},
   "outputs": [
    {
     "name": "stdout",
     "output_type": "stream",
     "text": [
      "(array([[0, 0, 0, 0, 1, 1]]), array([[0, 1, 1, 1, 0, 0]]))\n"
     ]
    }
   ],
   "source": [
    "social_beliefs, political_beliefs = createPersonality(agents_per_race, races)\n",
    "print ((social_beliefs,political_beliefs))"
   ]
  },
  {
   "cell_type": "code",
   "execution_count": 113,
   "metadata": {},
   "outputs": [],
   "source": [
    "def createAdj(agents_per_race, race, prob_inter=0.4, prob_intra=0.7):\n",
    "    agents = agents_per_race*race\n",
    "    adj= np.zeros((agents,agents))\n",
    "    \n",
    "    #Interracial edges\n",
    "    max_inter = int(((race-1)*race/2)*agents_per_race**2)\n",
    "    num_inter = int(max_inter*prob_inter)\n",
    "    inter_edges = np.random.choice(max_inter, size=(1,num_inter), replace=False)\n",
    "    inter_edge = 0\n",
    "    for i in range(agents):\n",
    "        prev_race = i//agents_per_race\n",
    "        for j in range(prev_race*agents_per_race+agents_per_race, agents):\n",
    "            if (i != j):\n",
    "                if np.any(inter_edges == inter_edge):\n",
    "                    adj[i,j] = 1\n",
    "                inter_edge +=1    \n",
    "                \n",
    "    #Intraracial edges\n",
    "    intra_edges = np.random.rand(agents,agents)\n",
    "    for i in range(agents):\n",
    "        current_race = i//agents_per_race\n",
    "        for j in range (i+1, current_race*agents_per_race+agents_per_race):           \n",
    "            if (intra_edges[i,j] < prob_intra):\n",
    "                adj[i,j] = 1\n",
    "                \n",
    "    #Reflect triangle\n",
    "    adj = np.triu(adj,0)+np.transpose(np.triu(adj))\n",
    "    \n",
    "    #Get all connections of at least distance 2 (at least one mutual friend)\n",
    "    adj2 = np.matmul(adj,adj)\n",
    "    \n",
    "    #Directly connected or have at least one mutual friend\n",
    "    adj3 = (adj+adj2>0).astype(int)\n",
    "    np.fill_diagonal(adj3, 0)\n",
    "    \n",
    "    return adj,adj2,adj3"
   ]
  },
  {
   "cell_type": "code",
   "execution_count": 114,
   "metadata": {},
   "outputs": [
    {
     "data": {
      "text/plain": [
       "(array([[ 0.,  0.,  0.,  1.,  0.,  1.],\n",
       "        [ 0.,  0.,  1.,  0.,  0.,  0.],\n",
       "        [ 0.,  1.,  0.,  1.,  0.,  0.],\n",
       "        [ 1.,  0.,  1.,  0.,  1.,  1.],\n",
       "        [ 0.,  0.,  0.,  1.,  0.,  1.],\n",
       "        [ 1.,  0.,  0.,  1.,  1.,  0.]]),\n",
       " array([[ 2.,  0.,  1.,  1.,  2.,  1.],\n",
       "        [ 0.,  1.,  0.,  1.,  0.,  0.],\n",
       "        [ 1.,  0.,  2.,  0.,  1.,  1.],\n",
       "        [ 1.,  1.,  0.,  4.,  1.,  2.],\n",
       "        [ 2.,  0.,  1.,  1.,  2.,  1.],\n",
       "        [ 1.,  0.,  1.,  2.,  1.,  3.]]),\n",
       " array([[0, 0, 1, 1, 1, 1],\n",
       "        [0, 0, 1, 1, 0, 0],\n",
       "        [1, 1, 0, 1, 1, 1],\n",
       "        [1, 1, 1, 0, 1, 1],\n",
       "        [1, 0, 1, 1, 0, 1],\n",
       "        [1, 0, 1, 1, 1, 0]]))"
      ]
     },
     "execution_count": 114,
     "metadata": {},
     "output_type": "execute_result"
    }
   ],
   "source": [
    "(createAdj(agents_per_race, races))"
   ]
  },
  {
   "cell_type": "code",
   "execution_count": null,
   "metadata": {
    "collapsed": true
   },
   "outputs": [],
   "source": []
  }
 ],
 "metadata": {
  "kernelspec": {
   "display_name": "Python 3",
   "language": "python",
   "name": "python3"
  },
  "language_info": {
   "codemirror_mode": {
    "name": "ipython",
    "version": 3
   },
   "file_extension": ".py",
   "mimetype": "text/x-python",
   "name": "python",
   "nbconvert_exporter": "python",
   "pygments_lexer": "ipython3",
   "version": "3.6.3"
  }
 },
 "nbformat": 4,
 "nbformat_minor": 2
}
