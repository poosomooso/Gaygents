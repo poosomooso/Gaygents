{
 "cells": [
  {
   "cell_type": "markdown",
   "metadata": {},
   "source": [
    "# Agent-Based Modeling of Marriages from Online Dating\n",
    "\n",
    "#### Serena Chen and Apurva Raman"
   ]
  },
  {
   "cell_type": "markdown",
   "metadata": {},
   "source": [
    "### Replicating the experiment in the [Strength of Absent Ties: Social Integration via Online Dating](https://arxiv.org/pdf/1709.10478.pdf.)"
   ]
  },
  {
   "cell_type": "code",
   "execution_count": 1,
   "metadata": {
    "collapsed": true
   },
   "outputs": [],
   "source": [
    "from __future__ import print_function, division\n",
    "\n",
    "# %matplotlib inline\n",
    "# %precision 3\n",
    "\n",
    "import warnings\n",
    "warnings.filterwarnings('ignore')\n",
    "\n",
    "import numpy as np\n",
    "import matplotlib.pyplot as plt\n",
    "\n",
    "# from matplotlib import rc\n",
    "# rc('animation', html='html5')"
   ]
  },
  {
   "cell_type": "code",
   "execution_count": 2,
   "metadata": {
    "collapsed": true
   },
   "outputs": [],
   "source": [
    "def getGender(agents_per_race, race):\n",
    "    women_per_race = agents_per_race//2\n",
    "    women_matrix = np.ones((women_per_race, race))\n",
    "    men_matrix= np.zeros((women_per_race, race))\n",
    "    leftovers = np.random.randint(low=0, high=2, size=(agents_per_race-2*women_per_race,race))# high is exclusive, generates 0 and 1\n",
    "    gender_matrix = np.concatenate((women_matrix, men_matrix, leftovers))\n",
    "    \n",
    "    # generate random matrix to shuffle columns of gender_matrix\n",
    "    rand_matrix = np.random.random(gender_matrix.shape)\n",
    "    \n",
    "    row_indices = np.argsort(rand_matrix, axis=0)\n",
    "    \n",
    "    # Preserve order of columns\n",
    "    col_indices = np.arange(gender_matrix.shape[1])[None, :]\n",
    "   \n",
    "    gender_matrix = gender_matrix[row_indices, col_indices]\n",
    "    \n",
    "    return np.transpose(gender_matrix)"
   ]
  },
  {
   "cell_type": "code",
   "execution_count": 3,
   "metadata": {},
   "outputs": [
    {
     "name": "stdout",
     "output_type": "stream",
     "text": [
      "[[ 1.  0.  0.  0.  0.  0.  1.  0.  0.  0.  1.  0.  0.  1.  0.  1.  1.  1.\n",
      "   0.  0.  0.  0.  1.  1.  1.  0.  0.  0.  1.  0.  1.  1.  1.  0.  0.  0.\n",
      "   1.  1.  0.  0.  1.  1.  0.  1.  0.  1.  0.  1.  0.  0.  1.  1.  1.  0.\n",
      "   1.  0.  0.  1.  0.  0.  1.  1.  0.  1.  0.  0.  1.  0.  0.  1.  1.  1.\n",
      "   1.  1.  1.  1.  1.  0.  1.  0.  0.  1.  0.  1.  1.  1.  1.  0.  1.  0.\n",
      "   0.  0.  1.  0.  0.  1.  1.  1.  1.  0.]\n",
      " [ 0.  1.  0.  1.  1.  1.  1.  1.  1.  0.  0.  0.  1.  1.  1.  0.  0.  1.\n",
      "   0.  1.  1.  1.  1.  0.  0.  1.  1.  0.  0.  0.  0.  0.  0.  0.  0.  0.\n",
      "   0.  1.  1.  1.  0.  1.  0.  1.  0.  0.  0.  0.  1.  1.  0.  1.  0.  1.\n",
      "   1.  1.  0.  1.  0.  0.  0.  1.  0.  0.  0.  1.  0.  0.  0.  1.  1.  0.\n",
      "   0.  1.  1.  1.  1.  0.  1.  1.  1.  1.  1.  0.  0.  1.  0.  1.  0.  1.\n",
      "   1.  1.  0.  1.  0.  0.  0.  1.  1.  0.]\n",
      " [ 0.  1.  0.  0.  0.  0.  0.  0.  0.  1.  1.  0.  1.  1.  1.  1.  1.  0.\n",
      "   1.  1.  1.  0.  0.  1.  1.  0.  1.  1.  1.  0.  0.  0.  0.  1.  1.  0.\n",
      "   0.  0.  1.  1.  0.  1.  1.  1.  0.  1.  0.  1.  1.  1.  0.  0.  0.  1.\n",
      "   1.  1.  0.  0.  1.  1.  1.  1.  1.  0.  0.  0.  0.  1.  1.  1.  0.  0.\n",
      "   0.  0.  0.  1.  1.  0.  1.  0.  0.  0.  1.  0.  0.  1.  1.  0.  0.  1.\n",
      "   1.  1.  1.  0.  0.  0.  1.  0.  1.  0.]]\n"
     ]
    }
   ],
   "source": [
    "agents_per_race = 100\n",
    "races = 3\n",
    "agents = agents_per_race*races\n",
    "genders=getGender(agents_per_race,races)\n",
    "print(genders)"
   ]
  },
  {
   "cell_type": "code",
   "execution_count": 4,
   "metadata": {
    "collapsed": true
   },
   "outputs": [],
   "source": [
    "def createPersonality(agents_per_race, race):\n",
    "    social_beliefs = np.random.rand(race*agents_per_race)\n",
    "    political_beliefs = np.random.rand(race*agents_per_race)\n",
    "    return (social_beliefs, political_beliefs)\n",
    "   "
   ]
  },
  {
   "cell_type": "code",
   "execution_count": 5,
   "metadata": {},
   "outputs": [
    {
     "name": "stdout",
     "output_type": "stream",
     "text": [
      "(array([  4.47199410e-01,   4.86089752e-01,   9.46765659e-01,\n",
      "         3.11111117e-01,   5.69663435e-01,   2.31644114e-01,\n",
      "         7.62020704e-01,   6.71460317e-01,   9.25500303e-01,\n",
      "         5.80456820e-01,   3.11601886e-01,   7.70827411e-02,\n",
      "         9.68713958e-01,   2.03756289e-01,   1.95267972e-01,\n",
      "         5.19014154e-01,   9.37127021e-01,   8.66255258e-01,\n",
      "         6.03817280e-01,   5.68391277e-01,   5.30307467e-01,\n",
      "         5.76199803e-01,   4.96255426e-02,   2.23065079e-01,\n",
      "         7.18549217e-01,   4.47157610e-01,   7.77295882e-01,\n",
      "         3.58372032e-01,   2.01174858e-01,   2.98006197e-01,\n",
      "         7.75504275e-01,   7.58944017e-01,   6.89870787e-01,\n",
      "         4.48604929e-01,   8.47202607e-01,   4.14970107e-01,\n",
      "         3.22364210e-02,   7.51335411e-01,   4.63035194e-01,\n",
      "         2.09461146e-01,   2.41323783e-01,   7.79223190e-01,\n",
      "         4.21163992e-01,   7.70832347e-01,   6.33897335e-01,\n",
      "         7.84263170e-01,   7.01176345e-01,   7.11263486e-01,\n",
      "         5.38755155e-01,   9.47738310e-01,   2.50126627e-01,\n",
      "         5.46857609e-01,   6.82317243e-02,   2.14105377e-02,\n",
      "         2.11203816e-03,   8.07188244e-01,   3.15564834e-02,\n",
      "         7.52802965e-01,   2.01875307e-01,   7.28200171e-01,\n",
      "         4.21049606e-02,   2.46372890e-01,   2.12206497e-01,\n",
      "         7.45894545e-01,   1.28276836e-01,   7.72336558e-01,\n",
      "         1.22113459e-01,   5.51666428e-01,   3.93061708e-01,\n",
      "         6.27747058e-01,   8.88540795e-01,   2.09053653e-01,\n",
      "         6.77157001e-02,   6.02219341e-01,   4.79272897e-01,\n",
      "         6.10163531e-01,   6.15772475e-01,   6.64441159e-01,\n",
      "         9.38579924e-01,   7.38948057e-01,   9.84155877e-01,\n",
      "         3.48064434e-01,   7.38297262e-01,   7.56453194e-01,\n",
      "         5.31623029e-01,   8.87927191e-01,   7.32582284e-01,\n",
      "         2.86846643e-01,   6.56018292e-01,   3.91651164e-01,\n",
      "         7.18956357e-01,   4.64641462e-01,   2.02082561e-01,\n",
      "         1.79315816e-02,   1.13220701e-01,   5.65052982e-01,\n",
      "         2.82519580e-01,   7.78190180e-01,   6.58093064e-01,\n",
      "         5.78904095e-01,   2.54336293e-01,   6.99816757e-01,\n",
      "         5.67356650e-01,   3.02695204e-01,   6.89440651e-01,\n",
      "         5.10034683e-01,   1.36491529e-01,   8.76357105e-01,\n",
      "         5.32708793e-01,   7.41664963e-01,   2.10115832e-01,\n",
      "         3.27301879e-01,   1.74279684e-01,   2.32765769e-01,\n",
      "         7.13097478e-03,   9.78164357e-02,   7.90731629e-01,\n",
      "         4.36431882e-01,   2.28126352e-01,   7.75921388e-04,\n",
      "         3.40334962e-01,   8.87579100e-02,   9.73909643e-01,\n",
      "         3.62392983e-02,   9.28857726e-02,   4.00148414e-01,\n",
      "         3.86511080e-01,   5.75621205e-01,   4.60455751e-01,\n",
      "         9.66142084e-01,   1.06467813e-01,   1.51534443e-01,\n",
      "         3.79217280e-01,   5.64867081e-01,   4.48219751e-02,\n",
      "         6.99557077e-01,   6.60989094e-01,   1.95562993e-01,\n",
      "         5.63406727e-01,   4.76837299e-01,   6.21909962e-02,\n",
      "         5.46833244e-02,   1.56925563e-01,   4.53113649e-01,\n",
      "         7.61515986e-01,   6.61288927e-01,   7.54028568e-01,\n",
      "         2.61475521e-01,   2.97901349e-01,   6.67545450e-01,\n",
      "         6.71532616e-01,   4.95257322e-01,   4.62233101e-01,\n",
      "         3.70363593e-01,   6.45608933e-01,   9.99061999e-02,\n",
      "         2.24755017e-01,   4.01086400e-01,   1.94004325e-01,\n",
      "         6.27637884e-01,   5.65508341e-01,   6.59446919e-01,\n",
      "         5.95055593e-01,   9.07248255e-01,   7.82109571e-01,\n",
      "         7.05636731e-01,   9.15242694e-01,   9.29288314e-01,\n",
      "         4.61456968e-01,   6.01919645e-01,   7.29261737e-01,\n",
      "         2.77762917e-02,   6.52790111e-01,   2.85322526e-02,\n",
      "         2.45302651e-01,   6.38560664e-01,   5.59961348e-01,\n",
      "         2.11082270e-01,   2.77056792e-01,   7.56253624e-03,\n",
      "         8.90349116e-01,   7.08495147e-01,   4.70738432e-01,\n",
      "         1.85136070e-01,   8.37540663e-01,   7.90369635e-01,\n",
      "         5.95580517e-01,   8.73085015e-01,   2.65320960e-01,\n",
      "         7.81606228e-01,   2.80623637e-01,   7.42720287e-01,\n",
      "         2.49378473e-01,   7.67084383e-01,   3.25208323e-01,\n",
      "         7.37195565e-01,   9.96452369e-01,   9.81402241e-01,\n",
      "         4.11894360e-01,   3.41179320e-01,   9.66193930e-01,\n",
      "         3.14466150e-01,   9.85478141e-01,   3.50733499e-01,\n",
      "         9.38121316e-01,   9.93548043e-01,   7.64044283e-01,\n",
      "         7.96267806e-01,   9.89974283e-01,   6.84573216e-01,\n",
      "         8.48609721e-01,   6.85635843e-01,   1.70343386e-01,\n",
      "         2.57130179e-01,   8.35950418e-01,   3.32795866e-02,\n",
      "         5.16051614e-01,   1.94730702e-01,   8.79486766e-01,\n",
      "         8.92602683e-01,   1.02577838e-01,   6.04243830e-01,\n",
      "         8.24423082e-02,   8.09154658e-01,   5.92421160e-01,\n",
      "         8.42954681e-01,   6.51698453e-01,   6.85024644e-01,\n",
      "         7.31736360e-01,   5.75391617e-01,   9.34963894e-01,\n",
      "         3.60820542e-01,   3.10500036e-01,   6.96845116e-01,\n",
      "         4.13247825e-01,   1.56000406e-01,   6.09384501e-01,\n",
      "         2.56647418e-01,   7.04951239e-02,   3.20180488e-01,\n",
      "         2.34150707e-01,   1.67010867e-01,   7.82721880e-01,\n",
      "         2.81250083e-01,   8.70973777e-01,   6.03355132e-01,\n",
      "         7.61420613e-02,   4.20100822e-01,   7.29033414e-01,\n",
      "         8.26315293e-01,   7.64982022e-01,   9.57298572e-01,\n",
      "         8.16594299e-01,   5.00960521e-01,   7.91896113e-01,\n",
      "         3.71052863e-01,   4.97766254e-01,   7.90733051e-01,\n",
      "         5.94140147e-01,   8.51624250e-01,   9.41735694e-01,\n",
      "         5.52742183e-01,   1.74443817e-01,   6.14445272e-01,\n",
      "         4.85773129e-01,   6.68624161e-01,   7.88471281e-01,\n",
      "         4.08877978e-01,   3.47071339e-01,   3.67002897e-01,\n",
      "         2.45367140e-01,   8.43084279e-01,   7.98055795e-01,\n",
      "         8.62761242e-01,   2.26384671e-01,   7.61050450e-01,\n",
      "         3.25100774e-01,   7.80799723e-01,   5.83087139e-01,\n",
      "         2.09624785e-01,   8.30831610e-02,   2.64898033e-01,\n",
      "         4.73426030e-01,   6.58990876e-01,   7.85833244e-03,\n",
      "         2.59848931e-01,   1.84597504e-01,   8.41792366e-01,\n",
      "         4.70505532e-01,   7.71068998e-01,   5.98244470e-01,\n",
      "         6.85039977e-01,   6.90930226e-01,   6.81721299e-01,\n",
      "         2.30323188e-01,   3.70130338e-01,   9.59022154e-01,\n",
      "         4.05917591e-01,   8.35077185e-01,   1.85422290e-01]), array([ 0.75220311,  0.34772765,  0.30935518,  0.05467872,  0.69430683,\n",
      "        0.10386371,  0.39563909,  0.00499857,  0.53648576,  0.81292007,\n",
      "        0.57168169,  0.75037028,  0.79821186,  0.11237572,  0.39033844,\n",
      "        0.21788749,  0.0564886 ,  0.95760741,  0.79093384,  0.15491766,\n",
      "        0.66730142,  0.20758455,  0.35749596,  0.9924455 ,  0.3560389 ,\n",
      "        0.38369055,  0.51524138,  0.41830886,  0.83543297,  0.39947939,\n",
      "        0.27163751,  0.24456933,  0.20262297,  0.26106673,  0.94395559,\n",
      "        0.13317209,  0.11622764,  0.42146723,  0.88616384,  0.5434813 ,\n",
      "        0.59342774,  0.69779175,  0.69614848,  0.15400289,  0.54336108,\n",
      "        0.01060488,  0.39003946,  0.22832849,  0.90904774,  0.02876162,\n",
      "        0.62519004,  0.94718997,  0.73789275,  0.90839536,  0.75183152,\n",
      "        0.75806107,  0.79462682,  0.60034818,  0.95202275,  0.72077726,\n",
      "        0.13953272,  0.91700896,  0.88194139,  0.54479183,  0.32934937,\n",
      "        0.06591085,  0.11841925,  0.20950116,  0.02392839,  0.90494438,\n",
      "        0.36877198,  0.62339842,  0.4721603 ,  0.45722343,  0.09601363,\n",
      "        0.49843131,  0.09898486,  0.70132627,  0.04044462,  0.77464385,\n",
      "        0.648601  ,  0.53782828,  0.12801135,  0.52864599,  0.73977929,\n",
      "        0.47530825,  0.35318513,  0.59213007,  0.19224674,  0.20889259,\n",
      "        0.8340866 ,  0.04944312,  0.26983834,  0.0886258 ,  0.53661914,\n",
      "        0.74600546,  0.38435867,  0.43690533,  0.40286093,  0.71733213,\n",
      "        0.24547279,  0.18971863,  0.43146981,  0.18571685,  0.7264135 ,\n",
      "        0.50527993,  0.20396092,  0.59171486,  0.7253703 ,  0.8679675 ,\n",
      "        0.63536952,  0.73367886,  0.62278892,  0.74440294,  0.28922443,\n",
      "        0.12009917,  0.707359  ,  0.51728129,  0.54665102,  0.79061271,\n",
      "        0.08199219,  0.70562184,  0.55213691,  0.16373791,  0.46046187,\n",
      "        0.81501083,  0.25987673,  0.18485317,  0.29714827,  0.29646865,\n",
      "        0.66599585,  0.3246833 ,  0.39405382,  0.91081375,  0.65792514,\n",
      "        0.90286903,  0.02377187,  0.88558777,  0.67375148,  0.67148066,\n",
      "        0.08852961,  0.59548571,  0.07375633,  0.76128946,  0.73220212,\n",
      "        0.12285477,  0.49597666,  0.28170324,  0.80735418,  0.84792808,\n",
      "        0.92790049,  0.28314136,  0.5119127 ,  0.42449682,  0.28788869,\n",
      "        0.81207243,  0.29767839,  0.19036083,  0.26173972,  0.97599382,\n",
      "        0.91825275,  0.96352143,  0.26748441,  0.40800241,  0.19301169,\n",
      "        0.67136099,  0.1541275 ,  0.64901854,  0.17880415,  0.57978482,\n",
      "        0.66283057,  0.74410549,  0.40227471,  0.72029846,  0.85575291,\n",
      "        0.19219368,  0.217217  ,  0.69025475,  0.4203221 ,  0.52142158,\n",
      "        0.97599052,  0.74699676,  0.98361515,  0.18839734,  0.67701405,\n",
      "        0.02287088,  0.27823313,  0.4894802 ,  0.1677239 ,  0.42249434,\n",
      "        0.11970189,  0.08293114,  0.35349261,  0.16188036,  0.88898715,\n",
      "        0.78992908,  0.68304698,  0.35416279,  0.33045595,  0.21227639,\n",
      "        0.55206302,  0.24171599,  0.10920592,  0.30380438,  0.17620752,\n",
      "        0.1071084 ,  0.61112754,  0.90929055,  0.96557496,  0.2187659 ,\n",
      "        0.58053352,  0.28170678,  0.12463595,  0.18380143,  0.13775028,\n",
      "        0.13014102,  0.7018711 ,  0.09251105,  0.57015593,  0.16965166,\n",
      "        0.61305607,  0.7147194 ,  0.47435402,  0.10698624,  0.6310494 ,\n",
      "        0.20338808,  0.33660921,  0.15696475,  0.67426105,  0.42066468,\n",
      "        0.55120857,  0.77712272,  0.96808819,  0.61218033,  0.49066173,\n",
      "        0.68747441,  0.08552189,  0.6055234 ,  0.83779907,  0.24450124,\n",
      "        0.22682366,  0.71779886,  0.29686293,  0.99849216,  0.7120495 ,\n",
      "        0.91515737,  0.57090411,  0.99118136,  0.85612555,  0.51778329,\n",
      "        0.43386647,  0.82805185,  0.70215959,  0.78182402,  0.54720048,\n",
      "        0.09840629,  0.84644122,  0.49020346,  0.5822628 ,  0.70025524,\n",
      "        0.78063868,  0.54270375,  0.63223386,  0.95526348,  0.50841539,\n",
      "        0.43813396,  0.76318304,  0.32305764,  0.24360206,  0.39069854,\n",
      "        0.50110096,  0.32512944,  0.61839352,  0.95671274,  0.16528298,\n",
      "        0.39789838,  0.99634558,  0.50177006,  0.30783989,  0.39696028,\n",
      "        0.27028481,  0.61451694,  0.97353454,  0.45671996,  0.89251162,\n",
      "        0.22554166,  0.18751495,  0.23726265,  0.59936239,  0.94943426,\n",
      "        0.91922089,  0.45616456,  0.7544028 ,  0.10986798,  0.41808802,\n",
      "        0.27332328,  0.10997398,  0.34853585,  0.33452516,  0.08701628]))\n"
     ]
    }
   ],
   "source": [
    "social_beliefs, political_beliefs = createPersonality(agents_per_race, races)\n",
    "print ((social_beliefs,political_beliefs))"
   ]
  },
  {
   "cell_type": "code",
   "execution_count": 6,
   "metadata": {
    "collapsed": true
   },
   "outputs": [],
   "source": [
    "def createAdj(agents_per_race, race, prob_inter=0.4, prob_intra=0.7):\n",
    "    agents = agents_per_race*race\n",
    "    adj= np.zeros((agents,agents))\n",
    "    \n",
    "    #Interracial edges\n",
    "    max_inter = int(((race-1)*race/2)*agents_per_race**2)\n",
    "    num_inter = int(max_inter*prob_inter)\n",
    "    inter_edges = np.random.choice(max_inter, size=(1,num_inter), replace=False)\n",
    "    inter_edge = 0\n",
    "    for i in range(agents):\n",
    "        prev_race = i//agents_per_race\n",
    "        for j in range(prev_race*agents_per_race+agents_per_race, agents):\n",
    "            if (i != j):\n",
    "                if np.any(inter_edges == inter_edge):\n",
    "                    adj[i,j] = 1\n",
    "                inter_edge +=1    \n",
    "                \n",
    "    #Intraracial edges\n",
    "    intra_edges = np.random.rand(agents,agents)\n",
    "    for i in range(agents):\n",
    "        current_race = i//agents_per_race\n",
    "        for j in range (i+1, current_race*agents_per_race+agents_per_race):           \n",
    "            if (intra_edges[i,j] < prob_intra):\n",
    "                adj[i,j] = 1\n",
    "                \n",
    "    #Reflect triangle\n",
    "    adj = np.triu(adj,0)+np.transpose(np.triu(adj))\n",
    "    \n",
    "    #Get all connections of at least distance 2 (at least one mutual friend)\n",
    "    adj2 = np.matmul(adj,adj)\n",
    "    \n",
    "    #Directly connected or have at least one mutual friend\n",
    "    adj3 = (adj+adj2>0).astype(int)\n",
    "    np.fill_diagonal(adj3, 0)\n",
    "    \n",
    "    return adj,adj2,adj3"
   ]
  },
  {
   "cell_type": "code",
   "execution_count": 7,
   "metadata": {},
   "outputs": [],
   "source": [
    "adj, adj2, adj3 = createAdj(agents_per_race, races)"
   ]
  },
  {
   "cell_type": "code",
   "execution_count": 8,
   "metadata": {},
   "outputs": [],
   "source": [
    "# Distances\n",
    "\n",
    "def getPersonalityDistances(agents, adjacency, genders, social_beliefs, political_beliefs):\n",
    "    distance = np.zeros((agents,agents))\n",
    "    gender_vector = genders.reshape((agents))\n",
    "    \n",
    "    for i in range(agents):\n",
    "        for j in range(i, agents):\n",
    "            # Same person\n",
    "            if (i==j):\n",
    "                distance[i, j] = np.nan\n",
    "            elif (adjacency[i,j]==0):\n",
    "                distance[i,j] = np.nan\n",
    "            elif (gender_vector[i] == gender_vector[j]):\n",
    "                distance[i, j] = np.nan\n",
    "            else: \n",
    "                political_diff = political_beliefs[i] - political_beliefs[j]\n",
    "                social_diff = social_beliefs[i] - social_beliefs[j]\n",
    "                distance[i,j] = np.sqrt(political_diff**2 + social_diff**2)\n",
    "    distance = np.triu(distance, 0)+np.transpose(np.triu(distance))\n",
    "    return distance\n",
    "        \n",
    "        "
   ]
  },
  {
   "cell_type": "code",
   "execution_count": 9,
   "metadata": {},
   "outputs": [
    {
     "name": "stdout",
     "output_type": "stream",
     "text": [
      "[[        nan  0.40634081  0.66759324 ...,  0.40577266         nan\n",
      "   0.71484319]\n",
      " [ 0.40634081         nan         nan ...,         nan  0.34923707\n",
      "          nan]\n",
      " [ 0.66759324         nan         nan ...,         nan  0.11448949\n",
      "          nan]\n",
      " ..., \n",
      " [ 0.40577266         nan         nan ...,         nan  0.42938823\n",
      "          nan]\n",
      " [        nan  0.34923707  0.11448949 ...,  0.42938823         nan\n",
      "   0.69520654]\n",
      " [ 0.71484319         nan         nan ...,         nan  0.69520654\n",
      "          nan]]\n"
     ]
    }
   ],
   "source": [
    "distances = getPersonalityDistances(agents, adj3, genders, social_beliefs, political_beliefs)\n",
    "print(distances)"
   ]
  },
  {
   "cell_type": "code",
   "execution_count": 10,
   "metadata": {
    "collapsed": true
   },
   "outputs": [],
   "source": [
    "def createMarriages(agents, distances, genders):\n",
    "    dist_copy = np.copy(distances)\n",
    "    marriage = np.zeros(agents)\n",
    "    marriage.fill(-1)\n",
    "    \n",
    "    women = np.sum(genders)\n",
    "    men= agents-np.sum(genders)\n",
    "    max_either_sex = int(max(women, men))\n",
    "    best_match = np.nanargmin(dist_copy, axis=1)    \n",
    "    \n",
    "    for _ in range(max_either_sex):\n",
    "        for i in range(agents):\n",
    "            crush = best_match[i]\n",
    "            if (i == best_match[crush]):\n",
    "                marriage[i] = crush\n",
    "        for j in range(agents):\n",
    "            if (marriage[j]<0):\n",
    "                if (marriage[best_match[j]] >= 0):\n",
    "                    dist_copy[j, best_match[j]] = np.nan\n",
    "\n",
    "        best_match = np.nanargmin(dist_copy, axis=1)   \n",
    "    \n",
    "    return (marriage.astype(int),distances)\n",
    "                    "
   ]
  },
  {
   "cell_type": "code",
   "execution_count": 11,
   "metadata": {},
   "outputs": [
    {
     "name": "stdout",
     "output_type": "stream",
     "text": [
      "[279  86 197 120 138 190 208  45 218  84  87  52 260 217  28  21 205 273\n",
      " 143  88 216  15  64  58  46 234  83 153  14  96 287 156  33  32 180 255\n",
      "  93 196 282 112 237 116 139  82 169   7  24  68  51  78 281  48  11 155\n",
      "  94 189 119 206  23 181 123 194 137 146  22 191 115 176  47 150 163 110\n",
      " 222 102  91 283 236 104  49 292  85 270  43  26   9  80   1  10  19 157\n",
      " 149  74 158  36  54  99  29 250 172  95 285 293  73 274  77 264 131 230\n",
      " 221 248  71 148  39 177 280  66  41 152 262  56   3 130 200  60 179 231\n",
      " 295 175 151 242 121 106 269 245 220 247 185  62   4  42 215 246  -1  18\n",
      " 228 227  63 201 111  90  69 128 117  27 211  53  31  89  92 161 290 159\n",
      " 226  70 193 195 219 187 209  44 252 173  98 171 192 127  67 113 294 124\n",
      "  34  59 263 286 233 136 278 167 213  55   5  65 174 164  61 165  37   2\n",
      " 297 268 122 147 296 267 223  16  57 289   6 168 272 154 299 188 225 140\n",
      "  20  13   8 166 134 108  72 204 266 214 162 145 144 258 107 125 276 184\n",
      "  25 241  76  40 284 240 239 235 129  -1 259 133 141 135 109 257  97 275\n",
      " 170 256 277  35 253 249 229 244  12 288 118 182 105 291 224 203 199 132\n",
      "  81 298 210  17 103 251 232 254 186   0 114  50  38  75 238 100 183  30\n",
      " 261 207 160 265  79 101 178 126 202 198 271 212]\n",
      "[[        nan  0.40634081  0.66759324 ...,  0.40577266         nan\n",
      "   0.71484319]\n",
      " [ 0.40634081         nan         nan ...,         nan  0.34923707\n",
      "          nan]\n",
      " [ 0.66759324         nan         nan ...,         nan  0.11448949\n",
      "          nan]\n",
      " ..., \n",
      " [ 0.40577266         nan         nan ...,         nan  0.42938823\n",
      "          nan]\n",
      " [        nan  0.34923707  0.11448949 ...,  0.42938823         nan\n",
      "   0.69520654]\n",
      " [ 0.71484319         nan         nan ...,         nan  0.69520654\n",
      "          nan]]\n"
     ]
    }
   ],
   "source": [
    "marriage, distances = createMarriages(agents, distances,genders)\n",
    "print(marriage)\n",
    "print(distances)"
   ]
  },
  {
   "cell_type": "code",
   "execution_count": 12,
   "metadata": {},
   "outputs": [],
   "source": [
    "# Welfare\n",
    "\n",
    "def averageDistances(distances, marriage):\n",
    "    avg_dist = 0;\n",
    "    for i in marriage:\n",
    "        if (i >= 0):\n",
    "            avg_dist += distances[i, marriage[i]]\n",
    "\n",
    "    # Number of married people\n",
    "    num_marriage = np.sum([marriage>=0])\n",
    "    return(avg_dist/num_marriage)\n"
   ]
  },
  {
   "cell_type": "code",
   "execution_count": 13,
   "metadata": {},
   "outputs": [
    {
     "name": "stdout",
     "output_type": "stream",
     "text": [
      "0.0867032437729\n"
     ]
    }
   ],
   "source": [
    "avg_dist = averageDistances(distances, marriage)\n",
    "print(avg_dist)"
   ]
  },
  {
   "cell_type": "code",
   "execution_count": 14,
   "metadata": {},
   "outputs": [],
   "source": [
    "def numIntraracial(marriage, agents_per_race, races):\n",
    "    agents = agents_per_race*races\n",
    "    num_intra = 0\n",
    "    for i in range(agents):\n",
    "        if (marriage[i] >=0):\n",
    "            curr_race = i//agents_per_race\n",
    "            race_end = (1+curr_race) * agents_per_race\n",
    "            race_start = curr_race*agents_per_race\n",
    "            if ((marriage[i] < race_end) and (marriage[i]>=race_start)):\n",
    "                num_intra += 1\n",
    "    return num_intra/2"
   ]
  },
  {
   "cell_type": "code",
   "execution_count": 15,
   "metadata": {},
   "outputs": [
    {
     "name": "stdout",
     "output_type": "stream",
     "text": [
      "59.0\n"
     ]
    }
   ],
   "source": [
    "num_intra = numIntraracial(marriage, agents_per_race, races)\n",
    "print(num_intra)"
   ]
  },
  {
   "cell_type": "code",
   "execution_count": 16,
   "metadata": {
    "collapsed": true
   },
   "outputs": [],
   "source": [
    "def numInterracial(num_intra, marriage):\n",
    "    # Number of marriages\n",
    "    num_marriage = np.sum([marriage>=0])/2\n",
    "    return(num_marriage - num_intra) "
   ]
  },
  {
   "cell_type": "code",
   "execution_count": 17,
   "metadata": {},
   "outputs": [
    {
     "name": "stdout",
     "output_type": "stream",
     "text": [
      "90.0\n"
     ]
    }
   ],
   "source": [
    "num_inter = numInterracial(num_intra, marriage)\n",
    "print(num_inter)"
   ]
  },
  {
   "cell_type": "code",
   "execution_count": 18,
   "metadata": {
    "collapsed": true
   },
   "outputs": [],
   "source": [
    "def welfareRatios(num_intra, num_inter, marriage, races, agents_per_race, avg_dist):\n",
    "    num_marriage = np.sum([marriage>=0])/2\n",
    "    \n",
    "    #ratio of people in interracial marriages to some race thing\n",
    "    \n",
    "    #TODO what is this\n",
    "    r1 = (num_inter/num_marriage)/((races-1)/races)\n",
    "        \n",
    "    #ratio of people in marriages to total people\n",
    "    r2 = num_marriage*2/(agents_per_race*races)\n",
    "    \n",
    "    #Normalized compatibility\n",
    "    r3 = (np.sqrt(2)-avg_dist)/np.sqrt(2)\n",
    "    \n",
    "    return(r1,r2,r3)"
   ]
  },
  {
   "cell_type": "code",
   "execution_count": 19,
   "metadata": {},
   "outputs": [
    {
     "name": "stdout",
     "output_type": "stream",
     "text": [
      "0.906040268456 0.993333333333 0.938691548377\n"
     ]
    }
   ],
   "source": [
    "r1,r2,r3 = welfareRatios(num_intra, num_inter, marriage, races, agents_per_race, avg_dist)\n",
    "print(r1,r2,r3)"
   ]
  },
  {
   "cell_type": "code",
   "execution_count": null,
   "metadata": {
    "collapsed": true
   },
   "outputs": [],
   "source": []
  }
 ],
 "metadata": {
  "kernelspec": {
   "display_name": "Python 3",
   "language": "python",
   "name": "python3"
  },
  "language_info": {
   "codemirror_mode": {
    "name": "ipython",
    "version": 3
   },
   "file_extension": ".py",
   "mimetype": "text/x-python",
   "name": "python",
   "nbconvert_exporter": "python",
   "pygments_lexer": "ipython3",
   "version": "3.6.3"
  }
 },
 "nbformat": 4,
 "nbformat_minor": 2
}
