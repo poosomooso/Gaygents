{
 "cells": [
  {
   "cell_type": "markdown",
   "metadata": {},
   "source": [
    "# Agent-Based Modeling of Marriages from Online Dating\n",
    "\n",
    "#### Serena Chen and Apurva Raman"
   ]
  },
  {
   "cell_type": "markdown",
   "metadata": {},
   "source": [
    "### Replicating the experiment in the [Strength of Absent Ties: Social Integration via Online Dating](https://arxiv.org/pdf/1709.10478.pdf.)"
   ]
  },
  {
   "cell_type": "code",
   "execution_count": 1,
   "metadata": {
    "collapsed": true
   },
   "outputs": [],
   "source": [
    "from __future__ import print_function, division\n",
    "\n",
    "# %matplotlib inline\n",
    "# %precision 3\n",
    "\n",
    "import warnings\n",
    "warnings.filterwarnings('ignore')\n",
    "\n",
    "import numpy as np\n",
    "import matplotlib.pyplot as plt\n",
    "\n",
    "from marriages_replication import *\n",
    "\n",
    "# from matplotlib import rc\n",
    "# rc('animation', html='html5')"
   ]
  },
  {
   "cell_type": "markdown",
   "metadata": {},
   "source": [
    "## Creating network"
   ]
  },
  {
   "cell_type": "code",
   "execution_count": 2,
   "metadata": {},
   "outputs": [
    {
     "name": "stdout",
     "output_type": "stream",
     "text": [
      "[[ 1.  0.  0.  0.  0.  0.  0.  1.  0.  1.  0.  1.  0.  1.  1.  1.  1.  0.\n",
      "   0.  0.  1.  1.  1.  0.  1.  0.  0.  1.  0.  1.  0.  0.  1.  1.  0.  1.\n",
      "   1.  1.  1.  1.  0.  0.  1.  1.  0.  0.  1.  1.  0.  0.  0.  1.  0.  0.\n",
      "   0.  1.  1.  0.  1.  0.  0.  1.  0.  1.  1.  0.  1.  0.  0.  0.  0.  0.\n",
      "   0.  1.  1.  0.  0.  1.  0.  0.  1.  1.  1.  1.  1.  1.  1.  1.  1.  0.\n",
      "   1.  1.  0.  1.  0.  1.  0.  1.  0.  0.]\n",
      " [ 1.  0.  1.  1.  0.  1.  1.  1.  0.  1.  1.  0.  1.  0.  1.  0.  0.  1.\n",
      "   0.  0.  1.  0.  0.  1.  0.  1.  0.  0.  1.  0.  0.  0.  0.  1.  1.  0.\n",
      "   0.  1.  0.  0.  1.  0.  1.  0.  1.  1.  1.  0.  1.  0.  0.  1.  0.  0.\n",
      "   0.  1.  1.  0.  1.  0.  1.  1.  1.  1.  1.  1.  1.  0.  0.  0.  0.  0.\n",
      "   1.  1.  0.  1.  0.  1.  0.  1.  0.  0.  1.  0.  0.  0.  1.  0.  0.  0.\n",
      "   1.  1.  0.  1.  1.  0.  1.  1.  1.  1.]\n",
      " [ 0.  1.  1.  1.  1.  0.  0.  0.  0.  0.  0.  1.  1.  0.  1.  0.  0.  0.\n",
      "   0.  0.  1.  0.  1.  0.  0.  1.  1.  1.  0.  1.  1.  1.  0.  0.  1.  0.\n",
      "   1.  0.  0.  1.  1.  1.  0.  1.  0.  0.  0.  0.  1.  1.  0.  0.  0.  0.\n",
      "   1.  1.  1.  1.  0.  1.  1.  0.  1.  1.  0.  1.  0.  0.  1.  1.  0.  0.\n",
      "   1.  0.  1.  0.  1.  0.  0.  0.  1.  1.  1.  0.  0.  0.  1.  1.  1.  1.\n",
      "   1.  1.  1.  0.  1.  0.  1.  0.  0.  1.]]\n"
     ]
    }
   ],
   "source": [
    "agents_per_race = 100\n",
    "races = 3\n",
    "agents = agents_per_race*races\n",
    "genders=getGender(agents_per_race,races)\n",
    "print(genders)"
   ]
  },
  {
   "cell_type": "code",
   "execution_count": 3,
   "metadata": {},
   "outputs": [
    {
     "name": "stdout",
     "output_type": "stream",
     "text": [
      "(array([ 0.7682411 ,  0.36809023,  0.94821207,  0.84968173,  0.17298553,\n",
      "        0.22613575,  0.58894585,  0.63328545,  0.03464121,  0.59254207,\n",
      "        0.20058075,  0.86974741,  0.54979955,  0.5901745 ,  0.32217581,\n",
      "        0.63735081,  0.58952218,  0.15113124,  0.24957833,  0.34888168,\n",
      "        0.55347716,  0.65079233,  0.16352918,  0.92317518,  0.97491199,\n",
      "        0.08627847,  0.01210906,  0.42997712,  0.77043949,  0.10835176,\n",
      "        0.9563956 ,  0.64048103,  0.26603273,  0.10998934,  0.27106223,\n",
      "        0.06823952,  0.1123413 ,  0.23042076,  0.2260629 ,  0.96685079,\n",
      "        0.23212753,  0.16402633,  0.57517922,  0.09904568,  0.89568912,\n",
      "        0.90437281,  0.55315859,  0.85314071,  0.22965035,  0.85661605,\n",
      "        0.73565707,  0.04699459,  0.60109188,  0.14790448,  0.57292631,\n",
      "        0.04453954,  0.43128386,  0.36892409,  0.62116196,  0.24885256,\n",
      "        0.67916534,  0.75380206,  0.52375238,  0.29067338,  0.72463455,\n",
      "        0.88738108,  0.80083289,  0.86008096,  0.09501888,  0.23783742,\n",
      "        0.49669964,  0.51120901,  0.38231028,  0.74303666,  0.472963  ,\n",
      "        0.04165471,  0.13877336,  0.79497558,  0.59441902,  0.93581591,\n",
      "        0.48294884,  0.98476583,  0.62270874,  0.57046382,  0.60617163,\n",
      "        0.94666108,  0.61498916,  0.21669557,  0.14643876,  0.24203784,\n",
      "        0.68931122,  0.21555998,  0.2576012 ,  0.56652275,  0.5880763 ,\n",
      "        0.723037  ,  0.37043609,  0.15321767,  0.15501198,  0.9572105 ,\n",
      "        0.95914078,  0.03090668,  0.01866897,  0.13914396,  0.63010281,\n",
      "        0.12295758,  0.16647453,  0.27775685,  0.60528071,  0.48750801,\n",
      "        0.6492486 ,  0.64012866,  0.89528724,  0.71570118,  0.36035857,\n",
      "        0.70100824,  0.55423342,  0.82947674,  0.65395473,  0.61815846,\n",
      "        0.39627481,  0.5583027 ,  0.13550337,  0.56596914,  0.30800748,\n",
      "        0.58476229,  0.47325261,  0.06851463,  0.77201868,  0.48688471,\n",
      "        0.66090928,  0.35725465,  0.83250745,  0.78264076,  0.68539598,\n",
      "        0.69920626,  0.78383683,  0.2715301 ,  0.27039953,  0.54805258,\n",
      "        0.9205544 ,  0.28629182,  0.62253912,  0.19194457,  0.39821001,\n",
      "        0.16471136,  0.7291541 ,  0.00522023,  0.47415221,  0.58044042,\n",
      "        0.10823043,  0.90591711,  0.88865013,  0.49506431,  0.81704075,\n",
      "        0.65197195,  0.49133309,  0.69437126,  0.35298462,  0.17233173,\n",
      "        0.16776978,  0.56281239,  0.4554673 ,  0.56523819,  0.71336661,\n",
      "        0.8266187 ,  0.6442756 ,  0.11829915,  0.22259274,  0.57617545,\n",
      "        0.94677474,  0.38643795,  0.0771708 ,  0.35657285,  0.61984533,\n",
      "        0.73777532,  0.14988357,  0.98256414,  0.36369759,  0.83911756,\n",
      "        0.56238402,  0.07150571,  0.33583198,  0.06264385,  0.07794542,\n",
      "        0.42390094,  0.26290454,  0.60645764,  0.23119595,  0.69574866,\n",
      "        0.55408908,  0.4452656 ,  0.72680567,  0.59395223,  0.28168   ,\n",
      "        0.70781611,  0.59227342,  0.15077568,  0.7563023 ,  0.28308592,\n",
      "        0.60508592,  0.30023387,  0.92271685,  0.90100164,  0.75552751,\n",
      "        0.44101502,  0.12881067,  0.15770466,  0.48575411,  0.14525589,\n",
      "        0.61331972,  0.41627948,  0.29911833,  0.23465228,  0.58509165,\n",
      "        0.07107264,  0.05015978,  0.13490355,  0.12323081,  0.78430406,\n",
      "        0.00227441,  0.43607698,  0.25644371,  0.06859623,  0.26774434,\n",
      "        0.56118083,  0.07916231,  0.08818853,  0.96389472,  0.08170092,\n",
      "        0.39581211,  0.61461035,  0.79667548,  0.49668929,  0.48190284,\n",
      "        0.9869385 ,  0.66256766,  0.81790171,  0.12835529,  0.69688272,\n",
      "        0.23607967,  0.1402248 ,  0.42899795,  0.97851922,  0.21831842,\n",
      "        0.76227804,  0.91443771,  0.13614785,  0.59041383,  0.62377133,\n",
      "        0.80861811,  0.78503404,  0.79371687,  0.15406539,  0.09923266,\n",
      "        0.56771116,  0.5763348 ,  0.373216  ,  0.44161064,  0.16132548,\n",
      "        0.21079208,  0.19106103,  0.2662108 ,  0.04948033,  0.87290992,\n",
      "        0.27656499,  0.82698137,  0.80674547,  0.07944351,  0.15334375,\n",
      "        0.7116305 ,  0.14991134,  0.35637852,  0.60119175,  0.42328506,\n",
      "        0.77740906,  0.35152829,  0.77935487,  0.49998895,  0.80830292,\n",
      "        0.8287224 ,  0.38097228,  0.31979718,  0.04475719,  0.0233545 ,\n",
      "        0.11269636,  0.42891403,  0.19950815,  0.3121067 ,  0.54950112,\n",
      "        0.76931863,  0.4115234 ,  0.95869164,  0.55541468,  0.99590641,\n",
      "        0.86978323,  0.72017427,  0.99191448,  0.24666899,  0.91339447]), array([  8.30552984e-01,   7.61857293e-01,   2.75792259e-01,\n",
      "         2.37790875e-01,   6.81518372e-01,   3.71847351e-01,\n",
      "         2.83666250e-01,   2.41804684e-01,   3.61718337e-01,\n",
      "         3.32434179e-02,   5.24377513e-01,   7.96384899e-01,\n",
      "         7.63787977e-02,   8.95634425e-01,   6.29308714e-02,\n",
      "         6.44994688e-02,   2.46295215e-01,   8.81309445e-01,\n",
      "         3.75278751e-01,   3.62259897e-01,   8.16578580e-01,\n",
      "         2.27234657e-01,   8.53086331e-01,   3.71070661e-01,\n",
      "         9.11035903e-01,   1.79161640e-01,   1.79774652e-01,\n",
      "         1.65822154e-01,   9.24011403e-01,   2.19172371e-01,\n",
      "         1.84247137e-01,   8.76616583e-01,   1.71833657e-01,\n",
      "         6.18417831e-01,   8.94946635e-01,   2.04208501e-01,\n",
      "         7.89394197e-02,   3.38136045e-02,   5.77716621e-01,\n",
      "         7.14853701e-01,   9.71265694e-01,   7.56959808e-01,\n",
      "         8.89077950e-01,   1.41011896e-01,   3.11657926e-01,\n",
      "         1.98430801e-01,   4.37693782e-01,   2.63033501e-01,\n",
      "         2.71523087e-01,   7.12572600e-03,   2.44347693e-01,\n",
      "         4.13327406e-01,   4.27757653e-01,   1.61901537e-01,\n",
      "         6.94342331e-01,   7.46304388e-01,   9.50477100e-01,\n",
      "         4.82637425e-01,   8.74038586e-01,   1.63295797e-01,\n",
      "         3.16030349e-01,   4.93087772e-01,   3.93471490e-01,\n",
      "         3.59445325e-01,   5.74425883e-01,   2.26470137e-02,\n",
      "         2.68338706e-02,   7.61766579e-01,   5.89602791e-01,\n",
      "         2.97771063e-01,   6.55262555e-01,   7.39722293e-01,\n",
      "         2.90303192e-01,   1.09551419e-01,   4.60277616e-01,\n",
      "         5.51745094e-01,   5.31028893e-01,   3.67897741e-01,\n",
      "         1.11961121e-01,   4.93432544e-01,   4.82019633e-01,\n",
      "         2.66579000e-01,   9.22247789e-01,   2.72780211e-01,\n",
      "         7.04157567e-01,   2.34423327e-02,   7.65454912e-02,\n",
      "         8.71459687e-01,   5.86749248e-01,   3.38679200e-01,\n",
      "         9.00534738e-01,   6.49318063e-02,   7.07234887e-01,\n",
      "         7.53289132e-01,   8.67757004e-01,   4.87163268e-03,\n",
      "         4.90194473e-01,   2.93510524e-01,   2.42480948e-02,\n",
      "         5.05173835e-01,   2.06536226e-01,   9.30930552e-01,\n",
      "         6.50598075e-01,   6.31811175e-01,   6.59215706e-01,\n",
      "         8.33487464e-01,   7.70617895e-01,   8.34144887e-01,\n",
      "         1.53697656e-01,   3.40345747e-01,   1.00998538e-01,\n",
      "         6.48761873e-01,   7.42660184e-02,   5.51573988e-01,\n",
      "         6.83643838e-01,   1.08355364e-01,   5.37756353e-01,\n",
      "         9.68411065e-01,   7.95215490e-01,   2.90450877e-01,\n",
      "         3.61380387e-01,   1.45324459e-01,   5.36046999e-01,\n",
      "         7.68267887e-01,   7.19820686e-01,   6.98939928e-01,\n",
      "         4.04880216e-01,   3.05748991e-01,   1.43876169e-01,\n",
      "         8.17169592e-01,   7.21120955e-01,   2.80799139e-01,\n",
      "         9.05512880e-01,   2.71954245e-01,   6.04073441e-01,\n",
      "         5.03680191e-01,   3.81509587e-01,   8.35517989e-01,\n",
      "         9.02289558e-01,   4.57605960e-01,   2.96731959e-01,\n",
      "         8.44798290e-01,   4.46638566e-01,   7.28010656e-01,\n",
      "         9.33927767e-01,   9.96884846e-01,   3.72092290e-01,\n",
      "         9.95712794e-01,   1.81270231e-01,   3.59188473e-02,\n",
      "         4.73290039e-01,   4.42367260e-01,   4.44649511e-01,\n",
      "         1.98094064e-01,   1.92602213e-01,   9.09636246e-01,\n",
      "         3.66425225e-01,   6.89924440e-01,   2.53752873e-01,\n",
      "         4.39097810e-01,   2.94697006e-01,   8.15308983e-01,\n",
      "         1.09500027e-01,   4.01121677e-01,   1.93983203e-01,\n",
      "         8.40649663e-01,   7.77615251e-01,   1.41905344e-01,\n",
      "         5.39619667e-01,   7.41901214e-02,   8.63613714e-01,\n",
      "         6.37003301e-01,   2.82645888e-01,   9.22813104e-01,\n",
      "         2.66311933e-02,   9.60931176e-01,   9.79210242e-01,\n",
      "         5.25116202e-01,   5.90876120e-01,   3.66444222e-01,\n",
      "         1.94930557e-01,   5.47320530e-01,   3.93047147e-01,\n",
      "         4.04453260e-01,   2.81184081e-01,   2.72656762e-01,\n",
      "         2.61356768e-01,   1.26942344e-01,   8.06293514e-01,\n",
      "         9.22185147e-01,   3.57328921e-01,   9.80417903e-01,\n",
      "         4.99159249e-01,   2.53983578e-01,   7.33816232e-01,\n",
      "         1.96001718e-01,   5.30146171e-01,   5.44807515e-01,\n",
      "         1.54082909e-01,   5.19211932e-01,   3.16767621e-01,\n",
      "         5.38668807e-01,   3.02091844e-03,   7.73666907e-01,\n",
      "         2.75399559e-01,   3.10948606e-01,   1.01616773e-01,\n",
      "         6.73331554e-01,   7.98005812e-01,   1.59092063e-01,\n",
      "         6.62493522e-01,   4.20222195e-01,   2.29707797e-01,\n",
      "         2.02644887e-02,   1.55600130e-01,   2.31015185e-01,\n",
      "         7.78565940e-01,   2.24708888e-01,   8.53775992e-01,\n",
      "         7.19558117e-01,   1.12307216e-01,   1.76409672e-01,\n",
      "         6.62633461e-02,   8.85046842e-03,   7.93221497e-01,\n",
      "         7.76405980e-01,   8.04936995e-01,   5.51211241e-01,\n",
      "         3.98956110e-01,   7.91163996e-01,   3.72432013e-01,\n",
      "         1.60846096e-01,   9.82243484e-01,   8.93979873e-01,\n",
      "         2.12260212e-01,   1.57142274e-01,   8.70352159e-02,\n",
      "         2.10434795e-02,   8.56520457e-01,   6.45762234e-01,\n",
      "         2.17804667e-01,   8.64749335e-02,   9.60975671e-01,\n",
      "         4.14198588e-02,   4.64463257e-01,   8.52924244e-03,\n",
      "         5.03344381e-01,   4.48998374e-01,   5.67141541e-01,\n",
      "         4.05933510e-01,   8.46493035e-01,   5.40741697e-01,\n",
      "         7.42321577e-01,   5.70249163e-05,   5.07666146e-01,\n",
      "         3.42417796e-01,   8.09816986e-01,   8.07537002e-01,\n",
      "         3.66905853e-01,   7.05748990e-01,   7.47014760e-01,\n",
      "         2.23833070e-01,   4.93718493e-01,   3.66128611e-01,\n",
      "         2.78210474e-01,   7.98114134e-01,   2.78769724e-01,\n",
      "         5.37244698e-01,   3.81764468e-01,   7.28619897e-01,\n",
      "         1.20645657e-01,   5.10955489e-01,   3.50696073e-01,\n",
      "         3.95760166e-01,   7.74863079e-01,   2.17364824e-01,\n",
      "         2.03993020e-01,   7.60785659e-01,   9.34690613e-01,\n",
      "         6.44644935e-01,   1.90496532e-01,   4.40810531e-01,\n",
      "         9.80666859e-01,   9.31566888e-01,   4.77511879e-01,\n",
      "         6.43638832e-01,   9.91655642e-01,   4.68138599e-01,\n",
      "         3.96568497e-01,   2.11001759e-01,   3.49758039e-01,\n",
      "         8.65390970e-01,   1.97701059e-01,   1.62030836e-01,\n",
      "         2.49850780e-01,   9.38001913e-01,   3.70570682e-01,\n",
      "         1.50867257e-01,   3.56457669e-01,   1.79976743e-01]))\n"
     ]
    }
   ],
   "source": [
    "social_beliefs, political_beliefs = createPersonality(agents_per_race, races)\n",
    "print ((social_beliefs,political_beliefs))"
   ]
  },
  {
   "cell_type": "code",
   "execution_count": 4,
   "metadata": {
    "collapsed": true
   },
   "outputs": [],
   "source": [
    "adj, adj2, adj3 = createAdj(agents_per_race, races)"
   ]
  },
  {
   "cell_type": "code",
   "execution_count": 5,
   "metadata": {},
   "outputs": [
    {
     "name": "stdout",
     "output_type": "stream",
     "text": [
      "[[        inf  0.4060047   0.58322295 ...,  0.71554348  0.70484312\n",
      "          inf]\n",
      " [ 0.4060047          inf         inf ...,         inf         inf\n",
      "   0.79745952]\n",
      " [ 0.58322295         inf         inf ...,         inf         inf\n",
      "   0.10194547]\n",
      " ..., \n",
      " [ 0.71554348         inf         inf ...,         inf         inf\n",
      "   0.08374219]\n",
      " [ 0.70484312         inf         inf ...,         inf         inf\n",
      "   0.68968716]\n",
      " [        inf  0.79745952  0.10194547 ...,  0.08374219  0.68968716\n",
      "          inf]]\n"
     ]
    }
   ],
   "source": [
    "distances = getPersonalityDistances(agents, adj3, genders, social_beliefs, political_beliefs)\n",
    "print(distances)"
   ]
  },
  {
   "cell_type": "markdown",
   "metadata": {},
   "source": [
    "## Creating Marriages"
   ]
  },
  {
   "cell_type": "code",
   "execution_count": 6,
   "metadata": {},
   "outputs": [
    {
     "name": "stdout",
     "output_type": "stream",
     "text": [
      "-----------------------------\n",
      "[277 257  81 128 259 182  83 246 263 149 262  67 162 284 223 174  79  22\n",
      "  63 272 129  78  17 179 170  -1 220 221 175 217 292  58  59 285  87 215\n",
      "  98 213 168 279 282 106  94 167 140 299 139 264 186 112 204 183 142 222\n",
      " 125 216 242 281  31  32 296 192 163  18 113 202 237  11  88 160 225  93\n",
      " 230 270 159 102  80 136  21  16  76   2 295   6 210  -1 169  34  68  97\n",
      " 189 253 269  71  42 245 211  89  36 177 235 144  75 207 248 218  41 141\n",
      " 231 205 187 134  49  64 171 236 196 232 166 193 258 214 197 130 194  54\n",
      " 156 268   3  20 123 158 155 266 111 146  77 188 173  46  44 107  52 260\n",
      " 101 176 135 286 293   9 254 152 151 234 280 132 126 239 131  74  69 247\n",
      "  12  62 195 250 118  43  38  86  24 114 184 138  15  28 145  99 201  23\n",
      " 289 227   5  51 172 276  48 110 137  90 251 278  61 119 124 164 116 122\n",
      " 275 271 255 178  65 252  50 109 241 103 274 212  84  96 209  37 121  35\n",
      "  55  29 105 256  26  27  53  14 265  70 238 181 243 283  72 108 117 291\n",
      " 153 100 115  66 226 157 261 206  56 228 287  95   7 161 104 273 165 190\n",
      " 203  91 150 200 219   1 120   4 143 240  10   8  47 224 133 290 127  92\n",
      "  73 199  19 249 208 198 185   0 191  39 154  57  40 229  13  33 147 244\n",
      " 298 180 267 233  30 148 297  82  60 294 288  45]\n",
      "[[        inf  0.4060047   0.58322295 ...,  0.71554348  0.70484312\n",
      "          inf]\n",
      " [ 0.4060047          inf         inf ...,         inf         inf\n",
      "   0.79745952]\n",
      " [ 0.58322295         inf         inf ...,         inf         inf\n",
      "   0.10194547]\n",
      " ..., \n",
      " [ 0.71554348         inf         inf ...,         inf         inf\n",
      "   0.08374219]\n",
      " [ 0.70484312         inf         inf ...,         inf         inf\n",
      "   0.68968716]\n",
      " [        inf  0.79745952  0.10194547 ...,  0.08374219  0.68968716\n",
      "          inf]]\n"
     ]
    }
   ],
   "source": [
    "marriage, distances = createMarriages(agents, distances,genders)\n",
    "print(\"-----------------------------\")\n",
    "print(marriage)\n",
    "print(distances)"
   ]
  },
  {
   "cell_type": "markdown",
   "metadata": {},
   "source": [
    "## Welfare measures"
   ]
  },
  {
   "cell_type": "code",
   "execution_count": 7,
   "metadata": {},
   "outputs": [
    {
     "name": "stdout",
     "output_type": "stream",
     "text": [
      "0.0815675802935\n"
     ]
    }
   ],
   "source": [
    "avg_dist = averageDistances(distances, marriage)\n",
    "print(avg_dist)"
   ]
  },
  {
   "cell_type": "code",
   "execution_count": 8,
   "metadata": {},
   "outputs": [
    {
     "name": "stdout",
     "output_type": "stream",
     "text": [
      "54.0\n"
     ]
    }
   ],
   "source": [
    "num_intra = numIntraracial(marriage, agents_per_race, races)\n",
    "print(num_intra)"
   ]
  },
  {
   "cell_type": "code",
   "execution_count": 9,
   "metadata": {},
   "outputs": [
    {
     "name": "stdout",
     "output_type": "stream",
     "text": [
      "95.0\n"
     ]
    }
   ],
   "source": [
    "num_inter = numInterracial(num_intra, marriage)\n",
    "print(num_inter)"
   ]
  },
  {
   "cell_type": "code",
   "execution_count": 10,
   "metadata": {
    "scrolled": true
   },
   "outputs": [
    {
     "name": "stdout",
     "output_type": "stream",
     "text": [
      "diversity (race) 0.956375838926\n",
      "compatibility (avgdist) 0.94232301085\n",
      "percent married (number) 0.993333333333\n"
     ]
    }
   ],
   "source": [
    "diversity,percent_married,compatibility = welfareRatios(num_intra, num_inter, marriage, races, agents_per_race, avg_dist)\n",
    "print('diversity (race)', diversity)\n",
    "print('compatibility (avgdist)', compatibility)\n",
    "print('percent married (number)', percent_married)"
   ]
  },
  {
   "cell_type": "markdown",
   "metadata": {
    "collapsed": true
   },
   "source": [
    "## Plotting a range of results"
   ]
  },
  {
   "cell_type": "code",
   "execution_count": 14,
   "metadata": {
    "scrolled": false
   },
   "outputs": [
    {
     "name": "stdout",
     "output_type": "stream",
     "text": [
      "[ 0.          0.05263158  0.10526316  0.15789474  0.21052632  0.26315789\n",
      "  0.31578947  0.36842105  0.42105263  0.47368421  0.52631579  0.57894737\n",
      "  0.63157895  0.68421053  0.73684211  0.78947368  0.84210526  0.89473684\n",
      "  0.94736842  1.        ]\n"
     ]
    },
    {
     "data": {
      "image/png": "[encoded data removed]",
      "text/plain": [
       "<matplotlib.figure.Figure at 0x7f387f87f390>"
      ]
     },
     "metadata": {},
     "output_type": "display_data"
    },
    {
     "data": {
      "image/png": "[encoded data removed]",
      "text/plain": [
       "<matplotlib.figure.Figure at 0x7f387f846e80>"
      ]
     },
     "metadata": {},
     "output_type": "display_data"
    }
   ],
   "source": [
    "\n",
    "probabilities = np.linspace(0.0, 1.0, num=20, dtype=float)\n",
    "num_sims = 500\n",
    "print(probabilities)\n",
    "\n",
    "diversities = []\n",
    "strengths = []\n",
    "\n",
    "for prob_interracial in probabilities:\n",
    "    div_sum = 0.0\n",
    "    str_sum = 0.0\n",
    "    for _ in range(num_sims):\n",
    "        div, married, strength = runSim(50, 2, 1.0, prob_interracial)\n",
    "        div_sum += div\n",
    "        str_sum += strength\n",
    "    diversities.append(div_sum/num_sims)\n",
    "    strengths.append(str_sum/num_sims)\n",
    "\n",
    "plt.figure()\n",
    "plt.xlabel('probability of interracial connection')\n",
    "plt.ylabel('diversity')\n",
    "r2dir_div, = plt.plot(probabilities, diversities, label='r=2, dir')\n",
    "plt.legend(handles=[r2dir_div])\n",
    "plt.figure()\n",
    "plt.xlabel('probability of interracial connection')\n",
    "plt.ylabel('strengths')\n",
    "r2dir_str, = plt.plot(probabilities, strengths, label='r=2, dir')\n",
    "plt.legend(handles=[r2dir_str])\n",
    "plt.show()\n",
    "    "
   ]
  },
  {
   "cell_type": "code",
   "execution_count": null,
   "metadata": {
    "collapsed": true
   },
   "outputs": [],
   "source": []
  }
 ],
 "metadata": {
  "kernelspec": {
   "display_name": "Python 3",
   "language": "python",
   "name": "python3"
  },
  "language_info": {
   "codemirror_mode": {
    "name": "ipython",
    "version": 3
   },
   "file_extension": ".py",
   "mimetype": "text/x-python",
   "name": "python",
   "nbconvert_exporter": "python",
   "pygments_lexer": "ipython3",
   "version": "3.6.3"
  }
 },
 "nbformat": 4,
 "nbformat_minor": 2
}
