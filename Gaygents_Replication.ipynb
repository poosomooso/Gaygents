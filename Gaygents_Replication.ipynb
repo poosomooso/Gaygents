{
 "cells": [
  {
   "cell_type": "markdown",
   "metadata": {},
   "source": [
    "# Agent-Based Modeling of Marriages from Online Dating\n",
    "\n",
    "#### Serena Chen and Apurva Raman"
   ]
  },
  {
   "cell_type": "markdown",
   "metadata": {},
   "source": [
    "### Replicating the experiment in the [Strength of Absent Ties: Social Integration via Online Dating](https://arxiv.org/pdf/1709.10478.pdf.)"
   ]
  },
  {
   "cell_type": "code",
   "execution_count": 1,
   "metadata": {},
   "outputs": [],
   "source": [
    "from __future__ import print_function, division\n",
    "\n",
    "# %matplotlib inline\n",
    "# %precision 3\n",
    "\n",
    "import warnings\n",
    "warnings.filterwarnings('ignore')\n",
    "\n",
    "import numpy as np\n",
    "import matplotlib.pyplot as plt\n",
    "\n",
    "from marriages_replication import *\n",
    "\n",
    "# from matplotlib import rc\n",
    "# rc('animation', html='html5')"
   ]
  },
  {
   "cell_type": "markdown",
   "metadata": {},
   "source": [
    "## Creating network"
   ]
  },
  {
   "cell_type": "code",
   "execution_count": 2,
   "metadata": {},
   "outputs": [
    {
     "name": "stdout",
     "output_type": "stream",
     "text": [
      "[[ 0.  0.  0.  0.  1.  1.  0.  0.  1.  1.  1.  1.  1.  0.  0.  1.  1.  1.\n",
      "   1.  1.  0.  0.  0.  1.  0.  0.  1.  0.  1.  0.  0.  0.  0.  1.  0.  1.\n",
      "   0.  0.  1.  1.  0.  1.  0.  1.  0.  0.  0.  1.  1.  1.  0.  1.  1.  1.\n",
      "   0.  1.  0.  1.  1.  1.  1.  1.  1.  1.  0.  1.  0.  0.  0.  1.  0.  1.\n",
      "   0.  0.  1.  0.  1.  0.  0.  0.  0.  1.  1.  0.  1.  1.  0.  0.  0.  0.\n",
      "   1.  1.  0.  1.  1.  0.  0.  0.  1.  1.]\n",
      " [ 0.  0.  1.  1.  1.  1.  1.  1.  0.  1.  0.  0.  0.  1.  1.  1.  0.  1.\n",
      "   0.  1.  1.  0.  1.  0.  0.  0.  0.  1.  0.  1.  0.  1.  1.  1.  0.  0.\n",
      "   1.  0.  1.  0.  0.  1.  0.  1.  0.  0.  0.  1.  1.  1.  1.  1.  0.  0.\n",
      "   0.  0.  1.  0.  1.  0.  1.  1.  1.  0.  1.  0.  1.  1.  1.  0.  1.  1.\n",
      "   0.  0.  0.  0.  1.  1.  1.  1.  1.  0.  0.  1.  0.  0.  0.  0.  1.  0.\n",
      "   0.  1.  0.  1.  0.  0.  0.  1.  0.  1.]\n",
      " [ 0.  0.  1.  0.  0.  0.  1.  0.  1.  0.  1.  1.  1.  1.  1.  1.  0.  0.\n",
      "   1.  1.  0.  0.  1.  1.  1.  0.  1.  1.  1.  0.  0.  1.  1.  0.  1.  0.\n",
      "   1.  1.  1.  0.  1.  0.  0.  0.  1.  0.  0.  1.  0.  0.  1.  0.  1.  0.\n",
      "   1.  0.  1.  1.  0.  1.  1.  0.  0.  0.  1.  0.  0.  1.  0.  0.  1.  1.\n",
      "   0.  0.  0.  0.  1.  1.  1.  0.  1.  0.  1.  0.  1.  0.  1.  1.  1.  0.\n",
      "   0.  1.  0.  0.  0.  1.  0.  0.  1.  1.]]\n"
     ]
    }
   ],
   "source": [
    "agents_per_race = 100\n",
    "races = 3\n",
    "agents = agents_per_race*races\n",
    "genders=getGender(agents_per_race,races)\n",
    "print(genders)"
   ]
  },
  {
   "cell_type": "code",
   "execution_count": 3,
   "metadata": {},
   "outputs": [
    {
     "name": "stdout",
     "output_type": "stream",
     "text": [
      "(array([ 0.3003807 ,  0.46333347,  0.69808151,  0.34500957,  0.48246089,\n",
      "        0.0157608 ,  0.52514318,  0.31518819,  0.23874273,  0.58023189,\n",
      "        0.95171631,  0.3397733 ,  0.45598998,  0.14893363,  0.99248336,\n",
      "        0.13676551,  0.7802503 ,  0.12224611,  0.80255822,  0.28855017,\n",
      "        0.47564773,  0.97128518,  0.00555835,  0.23581309,  0.83745064,\n",
      "        0.20097515,  0.0748422 ,  0.2983688 ,  0.21151774,  0.32731207,\n",
      "        0.63996042,  0.00262533,  0.72957202,  0.4332324 ,  0.44312451,\n",
      "        0.86790167,  0.88380567,  0.04627779,  0.6335442 ,  0.86478171,\n",
      "        0.41858167,  0.95773458,  0.50986985,  0.90441677,  0.70018983,\n",
      "        0.51417726,  0.75552933,  0.45283523,  0.87559796,  0.70868162,\n",
      "        0.79649812,  0.60993342,  0.84721763,  0.7012527 ,  0.7320396 ,\n",
      "        0.8654071 ,  0.29159975,  0.61673542,  0.20132992,  0.6455674 ,\n",
      "        0.18009534,  0.03298569,  0.53979319,  0.17538751,  0.95819946,\n",
      "        0.61020611,  0.91155391,  0.76197157,  0.53587025,  0.47514759,\n",
      "        0.11664808,  0.95152915,  0.87800521,  0.53429465,  0.18161829,\n",
      "        0.36909162,  0.814676  ,  0.89711188,  0.4857503 ,  0.31103768,\n",
      "        0.16640704,  0.10422262,  0.7858807 ,  0.93210719,  0.31704987,\n",
      "        0.99808536,  0.34869527,  0.63982209,  0.58124056,  0.7652791 ,\n",
      "        0.01297174,  0.25597082,  0.91952908,  0.77198744,  0.78595142,\n",
      "        0.71849724,  0.36060293,  0.21565902,  0.8584238 ,  0.40726834,\n",
      "        0.34771572,  0.48773127,  0.26557413,  0.40627175,  0.79458767,\n",
      "        0.95886775,  0.24985398,  0.2100475 ,  0.63897528,  0.39503411,\n",
      "        0.88045174,  0.73081774,  0.25287567,  0.91065229,  0.82078786,\n",
      "        0.42844446,  0.79740324,  0.6893911 ,  0.40125084,  0.01381009,\n",
      "        0.93914363,  0.59184447,  0.19620747,  0.14910502,  0.68242295,\n",
      "        0.24626429,  0.88389493,  0.64241997,  0.1866646 ,  0.16451959,\n",
      "        0.61739263,  0.10568834,  0.88307396,  0.21804395,  0.14678411,\n",
      "        0.317012  ,  0.86797121,  0.21183027,  0.33158132,  0.34369359,\n",
      "        0.22475515,  0.96780488,  0.78748857,  0.13784478,  0.52189377,\n",
      "        0.35892762,  0.49544658,  0.51728315,  0.70764816,  0.25214751,\n",
      "        0.83430374,  0.29497356,  0.0816656 ,  0.78496579,  0.13640947,\n",
      "        0.7000378 ,  0.78238979,  0.47646628,  0.19987329,  0.52824923,\n",
      "        0.30954158,  0.42319846,  0.31574257,  0.17786893,  0.35237533,\n",
      "        0.13686383,  0.39035676,  0.00402419,  0.23883692,  0.64570118,\n",
      "        0.77438356,  0.63719381,  0.15795572,  0.50405836,  0.76119483,\n",
      "        0.39735964,  0.52385003,  0.25651318,  0.98759713,  0.87292853,\n",
      "        0.38805995,  0.22364309,  0.11379546,  0.53102899,  0.09594289,\n",
      "        0.68932753,  0.60086526,  0.80279177,  0.73548537,  0.15905678,\n",
      "        0.04408851,  0.5463694 ,  0.54845675,  0.19466075,  0.18591179,\n",
      "        0.29567107,  0.48935128,  0.69474132,  0.02598128,  0.9448716 ,\n",
      "        0.38031028,  0.27293277,  0.54718071,  0.72515206,  0.11566191,\n",
      "        0.02123619,  0.59480056,  0.48598117,  0.54869979,  0.39683746,\n",
      "        0.65335563,  0.55847579,  0.21358495,  0.02268191,  0.83381844,\n",
      "        0.8665042 ,  0.74186201,  0.06348519,  0.74863642,  0.51061895,\n",
      "        0.75219301,  0.67731679,  0.56827497,  0.09266534,  0.51033   ,\n",
      "        0.81487058,  0.49925522,  0.97576975,  0.24536589,  0.09478437,\n",
      "        0.91564958,  0.50998601,  0.27363916,  0.60574841,  0.22137511,\n",
      "        0.11080873,  0.88425531,  0.05613959,  0.15759477,  0.10344037,\n",
      "        0.78083916,  0.52359605,  0.85907317,  0.66933867,  0.44901556,\n",
      "        0.31076523,  0.04159233,  0.36803642,  0.924201  ,  0.98638388,\n",
      "        0.40592826,  0.99149557,  0.06543584,  0.64646797,  0.12887734,\n",
      "        0.04642517,  0.9548011 ,  0.80404952,  0.32028241,  0.88546618,\n",
      "        0.45126969,  0.16073003,  0.41463447,  0.23423801,  0.77889765,\n",
      "        0.03334818,  0.7229481 ,  0.83715302,  0.33280044,  0.57069735,\n",
      "        0.84942301,  0.67582819,  0.67722856,  0.38054778,  0.74821587,\n",
      "        0.24881203,  0.23253803,  0.51515135,  0.08558323,  0.86883104,\n",
      "        0.87367824,  0.0337088 ,  0.51513457,  0.04988846,  0.0621527 ,\n",
      "        0.17686192,  0.60934594,  0.42650446,  0.12479295,  0.63557904,\n",
      "        0.23210144,  0.64910629,  0.03303606,  0.65693437,  0.77513503,\n",
      "        0.59548058,  0.70841534,  0.13083708,  0.37428717,  0.83782089]), array([ 0.18017733,  0.65970547,  0.68390859,  0.39895275,  0.66490368,\n",
      "        0.07715366,  0.86785061,  0.32268573,  0.66167853,  0.74413931,\n",
      "        0.03458661,  0.10327724,  0.79320825,  0.9150811 ,  0.81586051,\n",
      "        0.0396972 ,  0.48196436,  0.95102055,  0.35903047,  0.41891839,\n",
      "        0.5592177 ,  0.81378614,  0.48227469,  0.76405666,  0.56323705,\n",
      "        0.82648179,  0.82572003,  0.87546485,  0.62399287,  0.82792503,\n",
      "        0.43930748,  0.36707088,  0.46615814,  0.60329876,  0.94246017,\n",
      "        0.11022567,  0.46268214,  0.45131779,  0.49216819,  0.54269071,\n",
      "        0.20548404,  0.8883332 ,  0.48274468,  0.24280478,  0.59062977,\n",
      "        0.02100183,  0.07992596,  0.12547419,  0.17922031,  0.03880698,\n",
      "        0.02932055,  0.55912689,  0.03491263,  0.07069611,  0.18366171,\n",
      "        0.33751936,  0.45754396,  0.14062476,  0.01707023,  0.11003279,\n",
      "        0.65392903,  0.15540505,  0.41570438,  0.16557594,  0.29949296,\n",
      "        0.33368381,  0.08293433,  0.33174194,  0.38901872,  0.05235258,\n",
      "        0.40337406,  0.13023245,  0.91463329,  0.35568463,  0.82483836,\n",
      "        0.34705614,  0.47625236,  0.66393024,  0.74436615,  0.94085438,\n",
      "        0.92370475,  0.36140621,  0.80832747,  0.11148443,  0.40436848,\n",
      "        0.62086566,  0.0754402 ,  0.63430468,  0.96945074,  0.12658315,\n",
      "        0.44685835,  0.29844355,  0.67923093,  0.67109291,  0.76241057,\n",
      "        0.19778299,  0.24374937,  0.54065218,  0.47402036,  0.0562765 ,\n",
      "        0.60823423,  0.43949086,  0.21125059,  0.44826874,  0.60377854,\n",
      "        0.4357174 ,  0.17813573,  0.28589656,  0.45665702,  0.09656938,\n",
      "        0.11872054,  0.04500681,  0.41293426,  0.27306333,  0.72968757,\n",
      "        0.34581308,  0.46992027,  0.94909671,  0.77019458,  0.32619896,\n",
      "        0.16449606,  0.66613605,  0.77038755,  0.72285398,  0.63944057,\n",
      "        0.17853382,  0.49301106,  0.32290886,  0.24440035,  0.45389348,\n",
      "        0.2533686 ,  0.2569782 ,  0.79287289,  0.91932174,  0.69189589,\n",
      "        0.47905021,  0.15905079,  0.57340553,  0.95163021,  0.90671554,\n",
      "        0.1504658 ,  0.13711274,  0.05204001,  0.00281894,  0.01955251,\n",
      "        0.61349696,  0.37356599,  0.0578818 ,  0.95776292,  0.41474182,\n",
      "        0.12472629,  0.80222613,  0.77496092,  0.00469397,  0.12188497,\n",
      "        0.06530696,  0.38223841,  0.53074907,  0.538655  ,  0.88826352,\n",
      "        0.83514605,  0.24822911,  0.45077122,  0.11352623,  0.14943636,\n",
      "        0.24871503,  0.03841233,  0.88822256,  0.59502301,  0.05631923,\n",
      "        0.09582187,  0.0208328 ,  0.60263413,  0.42162022,  0.52499732,\n",
      "        0.95960087,  0.46969973,  0.70782079,  0.60438976,  0.25240517,\n",
      "        0.63106052,  0.28525161,  0.54807691,  0.88169503,  0.84893785,\n",
      "        0.24563037,  0.87028891,  0.40115044,  0.13073643,  0.82623705,\n",
      "        0.65281139,  0.30782038,  0.49777168,  0.38923617,  0.54245091,\n",
      "        0.34411015,  0.52397058,  0.31316395,  0.0153526 ,  0.18053924,\n",
      "        0.45151749,  0.29323369,  0.29619853,  0.13786564,  0.17321825,\n",
      "        0.0630061 ,  0.5686793 ,  0.53627991,  0.49514929,  0.38336831,\n",
      "        0.54145229,  0.43397078,  0.80336884,  0.65367836,  0.40644682,\n",
      "        0.07435487,  0.72482163,  0.48056756,  0.60010893,  0.13264907,\n",
      "        0.64024114,  0.01057734,  0.97939   ,  0.04418063,  0.94060632,\n",
      "        0.4449191 ,  0.40393005,  0.30482165,  0.00311773,  0.13615598,\n",
      "        0.66727194,  0.12612292,  0.27951992,  0.06962118,  0.15611872,\n",
      "        0.45134817,  0.82469732,  0.56325439,  0.35306782,  0.85412757,\n",
      "        0.30469622,  0.70357217,  0.17296628,  0.19702488,  0.70702525,\n",
      "        0.5673214 ,  0.21515496,  0.01255638,  0.6280991 ,  0.00227947,\n",
      "        0.36784426,  0.68918004,  0.87727123,  0.46841532,  0.29545324,\n",
      "        0.79379344,  0.80831979,  0.89076135,  0.95394244,  0.5635979 ,\n",
      "        0.833704  ,  0.89240455,  0.6637645 ,  0.23593506,  0.09169928,\n",
      "        0.40285562,  0.14054557,  0.11267577,  0.8907284 ,  0.88786284,\n",
      "        0.1245604 ,  0.51619355,  0.2121362 ,  0.34807823,  0.11910305,\n",
      "        0.95356257,  0.4137758 ,  0.57032995,  0.13635844,  0.88673969,\n",
      "        0.6889981 ,  0.26780503,  0.95988958,  0.49117148,  0.15974655,\n",
      "        0.83031452,  0.72009774,  0.95917385,  0.15294646,  0.68297554,\n",
      "        0.7375275 ,  0.25161297,  0.14633633,  0.14885519,  0.76014532,\n",
      "        0.11747751,  0.33989547,  0.63905283,  0.71607636,  0.20891891]))\n"
     ]
    }
   ],
   "source": [
    "social_beliefs, political_beliefs = createPersonality(agents_per_race, races)\n",
    "print ((social_beliefs,political_beliefs))"
   ]
  },
  {
   "cell_type": "code",
   "execution_count": 4,
   "metadata": {
    "collapsed": true
   },
   "outputs": [],
   "source": [
    "adj, adj2, adj3 = createAdj(agents_per_race, races)"
   ]
  },
  {
   "cell_type": "code",
   "execution_count": 5,
   "metadata": {},
   "outputs": [
    {
     "name": "stdout",
     "output_type": "stream",
     "text": [
      "[[        inf         inf         inf ...,         inf  0.54097129\n",
      "   0.53820817]\n",
      " [        inf         inf         inf ...,         inf  0.10538938\n",
      "   0.58604552]\n",
      " [        inf         inf         inf ...,         inf  0.32538829\n",
      "   0.49511846]\n",
      " ..., \n",
      " [        inf         inf         inf ...,         inf  0.25534403\n",
      "   0.82755139]\n",
      " [ 0.54097129  0.10538938  0.32538829 ...,  0.25534403         inf\n",
      "          inf]\n",
      " [ 0.53820817  0.58604552  0.49511846 ...,  0.82755139         inf\n",
      "          inf]]\n"
     ]
    }
   ],
   "source": [
    "distances = getPersonalityDistances(agents, adj3, genders, social_beliefs, political_beliefs)\n",
    "print(distances)"
   ]
  },
  {
   "cell_type": "markdown",
   "metadata": {},
   "source": [
    "## Creating Marriages"
   ]
  },
  {
   "cell_type": "code",
   "execution_count": 6,
   "metadata": {},
   "outputs": [
    {
     "name": "stdout",
     "output_type": "stream",
     "text": [
      "-----------------------------\n",
      "[164   4 104  84   1 205 224 276 297 241 249  86 118  17  41 154 174  13\n",
      "  32 135 277 256 166 290  39 212 184 151 172 160  65 119  18 262 287 110\n",
      "  98  90 253  24 161  14 176  -1 218 147 170  96  95 111  52 121  50 155\n",
      " 299 196 162 243 217 293 134 292  68 163 227  30 215 240  62 144  81  83\n",
      " 257 191 285 109 116 280 244  -1  -1  70 230  71   3 251  11 206 222 264\n",
      "  37 195 132 220 294  48  47 193  36 157 298 211 263 200   2 268 125 181\n",
      " 271  75  35  49 149  -1 216 273  76 186  12  31 153  51 123 122 210 106\n",
      " 259 185 254 235 291 165  92 275  60  19 242 168 258 260 234  -1 267 281\n",
      "  69 180 202  45 175 112 274  27  -1 120  15  53 187  99 194 183  29  40\n",
      "  56  63   0 131  22 255 137 171  46 169  28 226  16 148  42 245 248 207\n",
      " 145 107 237 159  26 127 117 156 203  -1 213  73 208  97 158  91  55 296\n",
      " 223  -1 103 232 146 188 288   5  87 179 192 250 124 101  25 190 225  66\n",
      " 114  58  44 272  93 231  88 198   6 214 173  64 283 278  82 221 201 295\n",
      " 140 129 279 182 265 252  67   9 136  57  78 177 284  -1 178  10 209  85\n",
      " 239  38 128 167  21  72 138 126 139  -1  33 102  89 238 270 142 105 282\n",
      " 266 108 219 115 150 133   7  20 229 236  77 143 269 228 246  74 289  34\n",
      " 204 286  23 130  61  59  94 233 197   8 100  54]\n",
      "[[        inf         inf         inf ...,         inf  0.54097129\n",
      "   0.53820817]\n",
      " [        inf         inf         inf ...,         inf  0.10538938\n",
      "   0.58604552]\n",
      " [        inf         inf         inf ...,         inf  0.32538829\n",
      "   0.49511846]\n",
      " ..., \n",
      " [        inf         inf         inf ...,         inf  0.25534403\n",
      "   0.82755139]\n",
      " [ 0.54097129  0.10538938  0.32538829 ...,  0.25534403         inf\n",
      "          inf]\n",
      " [ 0.53820817  0.58604552  0.49511846 ...,  0.82755139         inf\n",
      "          inf]]\n"
     ]
    }
   ],
   "source": [
    "marriage, distances = createMarriages(agents, distances,genders)\n",
    "print(\"-----------------------------\")\n",
    "print(marriage)\n",
    "print(distances)"
   ]
  },
  {
   "cell_type": "markdown",
   "metadata": {},
   "source": [
    "## Welfare measures"
   ]
  },
  {
   "cell_type": "code",
   "execution_count": 7,
   "metadata": {},
   "outputs": [
    {
     "name": "stdout",
     "output_type": "stream",
     "text": [
      "0.085362831351\n"
     ]
    }
   ],
   "source": [
    "avg_dist = averageDistances(distances, marriage)\n",
    "print(avg_dist)"
   ]
  },
  {
   "cell_type": "code",
   "execution_count": 8,
   "metadata": {},
   "outputs": [
    {
     "name": "stdout",
     "output_type": "stream",
     "text": [
      "47.0\n"
     ]
    }
   ],
   "source": [
    "num_intra = numIntraracial(marriage, agents_per_race, races)\n",
    "print(num_intra)"
   ]
  },
  {
   "cell_type": "code",
   "execution_count": 9,
   "metadata": {},
   "outputs": [
    {
     "name": "stdout",
     "output_type": "stream",
     "text": [
      "98.0\n"
     ]
    }
   ],
   "source": [
    "num_inter = numInterracial(num_intra, marriage)\n",
    "print(num_inter)"
   ]
  },
  {
   "cell_type": "code",
   "execution_count": 10,
   "metadata": {},
   "outputs": [
    {
     "name": "stdout",
     "output_type": "stream",
     "text": [
      "1.01379310345 0.966666666667 0.93963936309\n"
     ]
    }
   ],
   "source": [
    "diversity,percent_married,compatibility = welfareRatios(num_intra, num_inter, marriage, races, agents_per_race, avg_dist)\n",
    "print(diversity,percent_married,compatibility)"
   ]
  },
  {
   "cell_type": "markdown",
   "metadata": {
    "collapsed": true
   },
   "source": [
    "## Plotting a range of results"
   ]
  },
  {
   "cell_type": "code",
   "execution_count": 12,
   "metadata": {
    "scrolled": false
   },
   "outputs": [
    {
     "name": "stdout",
     "output_type": "stream",
     "text": [
      "[ 0.          0.07142857  0.14285714  0.21428571  0.28571429  0.35714286\n",
      "  0.42857143  0.5         0.57142857  0.64285714  0.71428571  0.78571429\n",
      "  0.85714286  0.92857143  1.        ]\n"
     ]
    },
    {
     "data": {
      "image/png": "[encoded data removed]",
      "text/plain": [
       "<matplotlib.figure.Figure at 0x7fb0ea92bc50>"
      ]
     },
     "metadata": {},
     "output_type": "display_data"
    },
    {
     "data": {
      "image/png": "[encoded data removed]",
      "text/plain": [
       "<matplotlib.figure.Figure at 0x7fb0ea54d3c8>"
      ]
     },
     "metadata": {},
     "output_type": "display_data"
    }
   ],
   "source": [
    "\n",
    "probabilities = np.linspace(0.0, 1.0, num=15, dtype=float)\n",
    "num_sims = 30\n",
    "print(probabilities)\n",
    "\n",
    "diversities = []\n",
    "strengths = []\n",
    "\n",
    "for prob_interracial in probabilities:\n",
    "    div_sum = 0.0\n",
    "    str_sum = 0.0\n",
    "    for _ in range(num_sims):\n",
    "        div, married, strength = runSim(50, 2, 1.0, prob_interracial)\n",
    "        div_sum += div\n",
    "        str_sum += strength\n",
    "    diversities.append(div_sum/num_sims)\n",
    "    strengths.append(str_sum/num_sims)\n",
    "\n",
    "plt.figure()\n",
    "plt.plot(probabilities, diversities, label='diversities')\n",
    "plt.figure()\n",
    "plt.plot(probabilities, strengths, label='strengths')\n",
    "plt.show()\n",
    "    "
   ]
  },
  {
   "cell_type": "code",
   "execution_count": null,
   "metadata": {
    "collapsed": true
   },
   "outputs": [],
   "source": []
  }
 ],
 "metadata": {
  "kernelspec": {
   "display_name": "Python 3",
   "language": "python",
   "name": "python3"
  },
  "language_info": {
   "codemirror_mode": {
    "name": "ipython",
    "version": 3
   },
   "file_extension": ".py",
   "mimetype": "text/x-python",
   "name": "python",
   "nbconvert_exporter": "python",
   "pygments_lexer": "ipython3",
   "version": "3.6.1"
  }
 },
 "nbformat": 4,
 "nbformat_minor": 2
}
