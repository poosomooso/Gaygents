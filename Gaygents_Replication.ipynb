{
 "cells": [
  {
   "cell_type": "markdown",
   "metadata": {},
   "source": [
    "# Agent-Based Modeling of Marriages from Online Dating\n",
    "\n",
    "#### Serena Chen and Apurva Raman"
   ]
  },
  {
   "cell_type": "markdown",
   "metadata": {},
   "source": [
    "### Replicating the experiment in the [Strength of Absent Ties: Social Integration via Online Dating](https://arxiv.org/pdf/1709.10478.pdf.)"
   ]
  },
  {
   "cell_type": "code",
   "execution_count": 1,
   "metadata": {
    "collapsed": true
   },
   "outputs": [],
   "source": [
    "from __future__ import print_function, division\n",
    "\n",
    "# %matplotlib inline\n",
    "# %precision 3\n",
    "\n",
    "import warnings\n",
    "warnings.filterwarnings('ignore')\n",
    "\n",
    "import numpy as np\n",
    "import matplotlib.pyplot as plt\n",
    "\n",
    "from marriages_replication import *\n",
    "\n",
    "# from matplotlib import rc\n",
    "# rc('animation', html='html5')"
   ]
  },
  {
   "cell_type": "markdown",
   "metadata": {},
   "source": [
    "## Creating network"
   ]
  },
  {
   "cell_type": "code",
   "execution_count": 2,
   "metadata": {},
   "outputs": [
    {
     "name": "stdout",
     "output_type": "stream",
     "text": [
      "[[ 1.  0.  0.  0.  1.  1.  0.  0.  0.  1.  1.  0.  1.  1.  1.  0.  0.  1.\n",
      "   1.  1.  0.  1.  0.  1.  0.  1.  0.  1.  1.  1.  1.  0.  1.  1.  1.  1.\n",
      "   0.  1.  1.  1.  1.  1.  0.  1.  1.  1.  1.  0.  0.  1.  0.  1.  0.  0.\n",
      "   0.  1.  0.  0.  0.  1.  0.  1.  0.  1.  0.  1.  1.  0.  0.  0.  1.  1.\n",
      "   0.  1.  0.  0.  0.  0.  0.  0.  1.  0.  1.  1.  1.  0.  1.  0.  1.  0.\n",
      "   1.  0.  0.  0.  0.  0.  0.  0.  0.  1.]\n",
      " [ 1.  1.  0.  0.  1.  0.  1.  0.  1.  0.  1.  1.  1.  0.  0.  0.  0.  1.\n",
      "   0.  0.  1.  1.  1.  1.  0.  0.  1.  0.  0.  0.  1.  0.  0.  0.  0.  1.\n",
      "   0.  0.  1.  0.  1.  1.  0.  1.  0.  1.  1.  0.  0.  1.  1.  1.  1.  0.\n",
      "   1.  1.  1.  1.  1.  1.  1.  1.  0.  0.  1.  0.  0.  0.  1.  1.  1.  1.\n",
      "   1.  0.  0.  0.  0.  0.  0.  1.  1.  1.  1.  0.  0.  0.  1.  1.  1.  0.\n",
      "   0.  1.  0.  0.  0.  1.  0.  0.  1.  0.]\n",
      " [ 0.  1.  0.  0.  1.  0.  0.  0.  1.  1.  1.  1.  1.  0.  1.  0.  1.  0.\n",
      "   1.  0.  1.  1.  1.  0.  0.  0.  0.  0.  0.  0.  0.  1.  0.  1.  1.  1.\n",
      "   1.  1.  0.  0.  0.  1.  1.  1.  0.  1.  1.  0.  1.  1.  0.  0.  1.  1.\n",
      "   1.  0.  0.  0.  1.  0.  1.  0.  0.  1.  0.  0.  1.  0.  1.  1.  0.  0.\n",
      "   1.  0.  1.  0.  1.  1.  0.  0.  0.  1.  0.  1.  0.  1.  1.  0.  1.  1.\n",
      "   1.  0.  1.  0.  0.  1.  0.  1.  1.  0.]]\n"
     ]
    }
   ],
   "source": [
    "agents_per_race = 100\n",
    "races = 3\n",
    "agents = agents_per_race*races\n",
    "genders=getGender(agents_per_race,races)\n",
    "print(genders)"
   ]
  },
  {
   "cell_type": "code",
   "execution_count": 3,
   "metadata": {},
   "outputs": [
    {
     "name": "stdout",
     "output_type": "stream",
     "text": [
      "(array([ 0.83592046,  0.02124911,  0.37718189,  0.01495879,  0.68082763,\n",
      "        0.1651344 ,  0.66756072,  0.18575635,  0.16004918,  0.90035883,\n",
      "        0.65332278,  0.21876126,  0.99404434,  0.92138808,  0.18770592,\n",
      "        0.23835862,  0.67727625,  0.83115548,  0.29120085,  0.96187379,\n",
      "        0.44365489,  0.57328842,  0.93346235,  0.75568912,  0.09372163,\n",
      "        0.31634933,  0.90469069,  0.03335031,  0.82686862,  0.86863637,\n",
      "        0.57571487,  0.67307106,  0.57872944,  0.75901377,  0.38802156,\n",
      "        0.19913927,  0.73770731,  0.2146878 ,  0.48684178,  0.30835225,\n",
      "        0.56135617,  0.00317803,  0.66248709,  0.31477002,  0.34372141,\n",
      "        0.44808703,  0.77268543,  0.59008505,  0.85173055,  0.50235428,\n",
      "        0.41753317,  0.26478426,  0.69395428,  0.39037499,  0.64664746,\n",
      "        0.06653722,  0.90238104,  0.4154418 ,  0.08806371,  0.43489399,\n",
      "        0.41100025,  0.62070183,  0.11097851,  0.55794397,  0.45429629,\n",
      "        0.43631412,  0.96769408,  0.76112672,  0.75289477,  0.65902046,\n",
      "        0.6914466 ,  0.02639662,  0.79112665,  0.47480046,  0.34881578,\n",
      "        0.02976807,  0.43773394,  0.89412518,  0.94199861,  0.21386913,\n",
      "        0.50060508,  0.71905753,  0.42621945,  0.13529274,  0.94464123,\n",
      "        0.12529261,  0.38501181,  0.53476981,  0.63790099,  0.27925778,\n",
      "        0.78735847,  0.62404224,  0.04426655,  0.95597755,  0.44862821,\n",
      "        0.11649035,  0.74938247,  0.98312499,  0.79009304,  0.8275546 ,\n",
      "        0.90024102,  0.37712494,  0.13384726,  0.84392469,  0.24722993,\n",
      "        0.95743567,  0.03705073,  0.16682536,  0.10840518,  0.36826284,\n",
      "        0.94902289,  0.65536348,  0.27426974,  0.54997167,  0.8871255 ,\n",
      "        0.65541471,  0.24262253,  0.82858931,  0.26957307,  0.67003988,\n",
      "        0.96132078,  0.19452901,  0.60174561,  0.70619262,  0.64700899,\n",
      "        0.25005605,  0.93911041,  0.72986843,  0.99351981,  0.5681203 ,\n",
      "        0.63792233,  0.54357918,  0.50909623,  0.73494157,  0.60737705,\n",
      "        0.44418829,  0.81790376,  0.8011565 ,  0.1079337 ,  0.85933038,\n",
      "        0.30220456,  0.2929129 ,  0.16041707,  0.02776977,  0.18935714,\n",
      "        0.52701097,  0.51809236,  0.27926416,  0.67645572,  0.67724534,\n",
      "        0.16733717,  0.15876143,  0.34542147,  0.4130641 ,  0.41904327,\n",
      "        0.40847517,  0.07570088,  0.51518371,  0.98253171,  0.28569758,\n",
      "        0.92381202,  0.19951207,  0.40569987,  0.55756065,  0.12802611,\n",
      "        0.06458305,  0.0654035 ,  0.32309977,  0.7155879 ,  0.40347647,\n",
      "        0.32114285,  0.2748946 ,  0.77850492,  0.35205264,  0.45267446,\n",
      "        0.13434798,  0.98393049,  0.62183553,  0.44497067,  0.30653606,\n",
      "        0.62997222,  0.22221893,  0.69049109,  0.85040694,  0.56077135,\n",
      "        0.32191674,  0.4228945 ,  0.17633063,  0.58618294,  0.80150517,\n",
      "        0.14480891,  0.78993829,  0.85179656,  0.30167959,  0.88975147,\n",
      "        0.38610678,  0.37514592,  0.71694592,  0.42795457,  0.13065658,\n",
      "        0.01205563,  0.21056663,  0.98043492,  0.0861615 ,  0.2225884 ,\n",
      "        0.86630064,  0.12307718,  0.72498881,  0.01634888,  0.58153813,\n",
      "        0.08501998,  0.68767011,  0.41823433,  0.98213194,  0.63503192,\n",
      "        0.98118967,  0.71680703,  0.80728302,  0.80376595,  0.25891792,\n",
      "        0.7913202 ,  0.85202551,  0.34019759,  0.59076353,  0.39019386,\n",
      "        0.31974534,  0.4499038 ,  0.37678568,  0.27598411,  0.22001304,\n",
      "        0.97725013,  0.97335828,  0.38380487,  0.35644009,  0.43845523,\n",
      "        0.17171089,  0.71392036,  0.89694959,  0.22301663,  0.90797299,\n",
      "        0.08659579,  0.53628051,  0.74638604,  0.05451171,  0.58139393,\n",
      "        0.07582934,  0.11622093,  0.5792704 ,  0.28853489,  0.281495  ,\n",
      "        0.37415668,  0.59822359,  0.68161123,  0.99501618,  0.05576695,\n",
      "        0.74870875,  0.49245138,  0.76658835,  0.9795073 ,  0.35334871,\n",
      "        0.38045195,  0.28252993,  0.55597651,  0.1228365 ,  0.97742131,\n",
      "        0.09701834,  0.68828964,  0.46443605,  0.34749197,  0.70659011,\n",
      "        0.973219  ,  0.66090091,  0.55886863,  0.91103849,  0.36246414,\n",
      "        0.52362138,  0.43394832,  0.2061476 ,  0.97068275,  0.95895825,\n",
      "        0.69696177,  0.6560435 ,  0.09584949,  0.6446002 ,  0.93609537,\n",
      "        0.07747473,  0.25329036,  0.53890295,  0.4472093 ,  0.89162004,\n",
      "        0.12322869,  0.74185489,  0.43558347,  0.92871416,  0.86003304,\n",
      "        0.90951997,  0.38589448,  0.9409114 ,  0.69351132,  0.23286208]), array([ 0.2640267 ,  0.79704418,  0.7929155 ,  0.50560957,  0.29255102,\n",
      "        0.24850385,  0.75032509,  0.40869199,  0.12397133,  0.98964906,\n",
      "        0.63420867,  0.44467788,  0.25816636,  0.91474026,  0.3806407 ,\n",
      "        0.57071251,  0.24391117,  0.96163836,  0.49937347,  0.33568655,\n",
      "        0.26006004,  0.3913818 ,  0.63469641,  0.7084345 ,  0.74181996,\n",
      "        0.47940869,  0.91715903,  0.01313   ,  0.71645626,  0.11472057,\n",
      "        0.25609479,  0.83945591,  0.52048761,  0.65900756,  0.92277236,\n",
      "        0.98426662,  0.87087397,  0.71646642,  0.43191418,  0.40444229,\n",
      "        0.68832456,  0.19996075,  0.67830594,  0.14256232,  0.11645416,\n",
      "        0.19109469,  0.6679821 ,  0.0929889 ,  0.734196  ,  0.36404272,\n",
      "        0.93102254,  0.68150418,  0.87846935,  0.63777511,  0.69385072,\n",
      "        0.91979275,  0.1503954 ,  0.32786531,  0.09497738,  0.39748006,\n",
      "        0.34505251,  0.5798706 ,  0.6452884 ,  0.15374907,  0.5684233 ,\n",
      "        0.46330196,  0.96161999,  0.27266468,  0.02047719,  0.39192386,\n",
      "        0.35305586,  0.50957894,  0.29887962,  0.85602836,  0.88671146,\n",
      "        0.38141265,  0.64505356,  0.86791846,  0.9638429 ,  0.98304972,\n",
      "        0.39639937,  0.02529917,  0.4452525 ,  0.90729806,  0.02014219,\n",
      "        0.42403788,  0.17806353,  0.74894696,  0.11938854,  0.12961742,\n",
      "        0.64110259,  0.23190888,  0.53767635,  0.71209333,  0.84758848,\n",
      "        0.18264306,  0.94169169,  0.24381929,  0.42830652,  0.72772536,\n",
      "        0.49480934,  0.36137426,  0.54698103,  0.75289704,  0.65669516,\n",
      "        0.00887852,  0.08735359,  0.58237299,  0.38392305,  0.46670431,\n",
      "        0.57553114,  0.31008107,  0.50594177,  0.15107804,  0.56357845,\n",
      "        0.48328016,  0.03182745,  0.07391845,  0.1633022 ,  0.87932612,\n",
      "        0.23966536,  0.17041393,  0.54780994,  0.22578887,  0.37494594,\n",
      "        0.05641128,  0.71411705,  0.25759971,  0.51610866,  0.28495005,\n",
      "        0.94078137,  0.41380067,  0.01965057,  0.71857333,  0.71021493,\n",
      "        0.26847085,  0.00467499,  0.18492753,  0.73861111,  0.34108898,\n",
      "        0.66940662,  0.48168505,  0.94583294,  0.32010475,  0.44838615,\n",
      "        0.54710362,  0.7210874 ,  0.12298978,  0.02666741,  0.25759298,\n",
      "        0.25006893,  0.77828642,  0.43606533,  0.50147992,  0.10091786,\n",
      "        0.85300715,  0.82568292,  0.21317532,  0.99928493,  0.88430639,\n",
      "        0.94453014,  0.81877467,  0.92187203,  0.10193484,  0.22625854,\n",
      "        0.63992921,  0.80583417,  0.84530552,  0.90449709,  0.50813893,\n",
      "        0.25349498,  0.16908859,  0.83766048,  0.70276212,  0.31260064,\n",
      "        0.94169243,  0.37511404,  0.16128122,  0.54121854,  0.16277262,\n",
      "        0.20320279,  0.99523604,  0.89525655,  0.51969733,  0.60811635,\n",
      "        0.95553235,  0.37746083,  0.60319767,  0.88016498,  0.31565355,\n",
      "        0.7468035 ,  0.69052142,  0.69957269,  0.62940925,  0.38514726,\n",
      "        0.85855715,  0.77191264,  0.67735097,  0.38130444,  0.43688403,\n",
      "        0.53609786,  0.62053352,  0.39514633,  0.08305683,  0.23295253,\n",
      "        0.12984589,  0.98363241,  0.86963111,  0.16846617,  0.82911876,\n",
      "        0.90953779,  0.22684323,  0.27921558,  0.91126293,  0.76729494,\n",
      "        0.37949559,  0.24942698,  0.35626486,  0.95904925,  0.22167706,\n",
      "        0.30053457,  0.56742542,  0.73488964,  0.31479844,  0.80584005,\n",
      "        0.41736503,  0.87908771,  0.52953522,  0.05987993,  0.97334569,\n",
      "        0.00873087,  0.70342254,  0.43720211,  0.37723334,  0.9220232 ,\n",
      "        0.11967026,  0.24720099,  0.2320178 ,  0.03516044,  0.89156745,\n",
      "        0.55263844,  0.34810416,  0.22796204,  0.68475704,  0.19045798,\n",
      "        0.11007228,  0.8464119 ,  0.33490002,  0.91489623,  0.72021903,\n",
      "        0.30361128,  0.37649914,  0.1506435 ,  0.33827235,  0.80581616,\n",
      "        0.60380961,  0.5148622 ,  0.6500042 ,  0.5394484 ,  0.93263614,\n",
      "        0.41082208,  0.6676615 ,  0.95600452,  0.29864932,  0.01140449,\n",
      "        0.15170724,  0.50622325,  0.19387319,  0.77665677,  0.44570853,\n",
      "        0.5731426 ,  0.00917042,  0.28115298,  0.28642381,  0.76488514,\n",
      "        0.15512576,  0.7711003 ,  0.48821703,  0.26854277,  0.58205728,\n",
      "        0.17595683,  0.07834665,  0.42666568,  0.13436671,  0.56544263,\n",
      "        0.28436409,  0.2894445 ,  0.9577855 ,  0.54128015,  0.08058637,\n",
      "        0.85917372,  0.97424811,  0.97972072,  0.40250491,  0.4814437 ,\n",
      "        0.18172504,  0.70061639,  0.77189779,  0.42774139,  0.242209  ]))\n"
     ]
    }
   ],
   "source": [
    "social_beliefs, political_beliefs = createPersonality(agents_per_race, races)\n",
    "print ((social_beliefs,political_beliefs))"
   ]
  },
  {
   "cell_type": "code",
   "execution_count": 4,
   "metadata": {
    "collapsed": true
   },
   "outputs": [],
   "source": [
    "adj, adj2, adj3 = createAdj(agents_per_race, races)"
   ]
  },
  {
   "cell_type": "code",
   "execution_count": 5,
   "metadata": {},
   "outputs": [
    {
     "name": "stdout",
     "output_type": "stream",
     "text": [
      "[[        inf  0.97354869  0.70011744 ...,         inf         inf\n",
      "   0.60345292]\n",
      " [ 0.97354869         inf         inf ...,  0.92000602  0.76702088\n",
      "          inf]\n",
      " [ 0.70011744         inf         inf ...,  0.56412118  0.4831319\n",
      "          inf]\n",
      " ..., \n",
      " [        inf  0.92000602  0.56412118 ...,         inf         inf\n",
      "   0.8842534 ]\n",
      " [        inf  0.76702088  0.4831319  ...,         inf         inf\n",
      "   0.4966085 ]\n",
      " [ 0.60345292         inf         inf ...,  0.8842534   0.4966085\n",
      "          inf]]\n"
     ]
    }
   ],
   "source": [
    "distances = getPersonalityDistances(agents, adj3, genders, social_beliefs, political_beliefs)\n",
    "print(distances)"
   ]
  },
  {
   "cell_type": "markdown",
   "metadata": {},
   "source": [
    "## Creating Marriages"
   ]
  },
  {
   "cell_type": "code",
   "execution_count": 6,
   "metadata": {},
   "outputs": [
    {
     "name": "stdout",
     "output_type": "stream",
     "text": [
      "-----------------------------\n",
      "[189 156 268  71 217 116 214  14 235 287  42 112  97  26   7 201 149 291\n",
      " 102 215 135 251 231 133 138 227  13 238 192 205 223 209  76 257 162 229\n",
      " 172  62 183 225 134  -1  10  89 228 267 197  88  99 271 234  53 182  51\n",
      " 122  -1 295 101 245  68 186 184  37 113  65  64  78 242  59 298 124   3\n",
      " 220  94 195 143  32 297  66 181 131 198 293 175 105 108 163 146  47  43\n",
      " 255 180 150 126  73 164 218  12 269  48 294  57  18 191 193  84 203 187\n",
      "  85 152 279 194  11  63 221 266   5 136 171 130 278 125  54 137  70 121\n",
      "  93 216 258 272 119  80 154  23  40  20 117 123  24 236 261 240 290  75\n",
      " 277 256  87 179 281  16  92 190 109 169 132 226   1 275 213 167 239  -1\n",
      "  34  86  95 243 254 159 207 153 250 118  36 222 212  83 253 283 288 147\n",
      "  91  79  52  38  61 248  60 107 262   0 151 103  28 104 111  74 274  46\n",
      "  81 285 246  15  -1 106 299  29 210 168 265  31 206 244 174 158   6  19\n",
      " 127   4  96 286  72 114 173  30 276  39 155  25  44  35  -1  22 260 284\n",
      "  50   8 139 273  27 160 141 247  67 165 211  58 200 241 185 296 170  21\n",
      " 280 176 166  90 145  33 128 292 232 140 188 282 289 208 115  45   2  98\n",
      "  -1  49 129 237 196 157 224 144 120 110 252 148 263 177 233 199 219   9\n",
      " 178 264 142  17 259  82 100  56 249  77  69 204]\n",
      "[[        inf  0.97354869  0.70011744 ...,         inf         inf\n",
      "   0.60345292]\n",
      " [ 0.97354869         inf         inf ...,  0.92000602  0.76702088\n",
      "          inf]\n",
      " [ 0.70011744         inf         inf ...,  0.56412118  0.4831319\n",
      "          inf]\n",
      " ..., \n",
      " [        inf  0.92000602  0.56412118 ...,         inf         inf\n",
      "   0.8842534 ]\n",
      " [        inf  0.76702088  0.4831319  ...,         inf         inf\n",
      "   0.4966085 ]\n",
      " [ 0.60345292         inf         inf ...,  0.8842534   0.4966085\n",
      "          inf]]\n"
     ]
    }
   ],
   "source": [
    "marriage, distances = createMarriages(agents, distances,genders)\n",
    "print(\"-----------------------------\")\n",
    "print(marriage)\n",
    "print(distances)"
   ]
  },
  {
   "cell_type": "markdown",
   "metadata": {},
   "source": [
    "## Welfare measures"
   ]
  },
  {
   "cell_type": "code",
   "execution_count": 7,
   "metadata": {},
   "outputs": [
    {
     "name": "stdout",
     "output_type": "stream",
     "text": [
      "0.0817046506578\n"
     ]
    }
   ],
   "source": [
    "avg_dist = averageDistances(distances, marriage)\n",
    "print(avg_dist)"
   ]
  },
  {
   "cell_type": "code",
   "execution_count": 8,
   "metadata": {},
   "outputs": [
    {
     "name": "stdout",
     "output_type": "stream",
     "text": [
      "46.0\n"
     ]
    }
   ],
   "source": [
    "num_intra = numIntraracial(marriage, agents_per_race, races)\n",
    "print(num_intra)"
   ]
  },
  {
   "cell_type": "code",
   "execution_count": 9,
   "metadata": {},
   "outputs": [
    {
     "name": "stdout",
     "output_type": "stream",
     "text": [
      "101.0\n"
     ]
    }
   ],
   "source": [
    "num_inter = numInterracial(num_intra, marriage)\n",
    "print(num_inter)"
   ]
  },
  {
   "cell_type": "code",
   "execution_count": 10,
   "metadata": {
    "scrolled": true
   },
   "outputs": [
    {
     "name": "stdout",
     "output_type": "stream",
     "text": [
      "diversity (race) 1.0306122449\n",
      "compatibility (avgdist) 0.942226087465\n",
      "percent married (number) 0.98\n"
     ]
    }
   ],
   "source": [
    "diversity,percent_married,compatibility = welfareRatios(num_intra, num_inter, marriage, races, agents_per_race, avg_dist)\n",
    "print('diversity (race)', diversity)\n",
    "print('compatibility (avgdist)', compatibility)\n",
    "print('percent married (number)', percent_married)"
   ]
  },
  {
   "cell_type": "markdown",
   "metadata": {
    "collapsed": true
   },
   "source": [
    "## Plotting a range of results"
   ]
  },
  {
   "cell_type": "code",
   "execution_count": 17,
   "metadata": {
    "scrolled": false
   },
   "outputs": [
    {
     "name": "stdout",
     "output_type": "stream",
     "text": [
      "[ 0.          0.07142857  0.14285714  0.21428571  0.28571429  0.35714286\n",
      "  0.42857143  0.5         0.57142857  0.64285714  0.71428571  0.78571429\n",
      "  0.85714286  0.92857143  1.        ]\n"
     ]
    },
    {
     "data": {
      "image/png": "[encoded data removed]",
      "text/plain": [
       "<matplotlib.figure.Figure at 0x7f055688b208>"
      ]
     },
     "metadata": {},
     "output_type": "display_data"
    },
    {
     "data": {
      "image/png": "[encoded data removed]",
      "text/plain": [
       "<matplotlib.figure.Figure at 0x7f05522bf828>"
      ]
     },
     "metadata": {},
     "output_type": "display_data"
    }
   ],
   "source": [
    "\n",
    "probabilities = np.linspace(0.0, 1.0, num=15, dtype=float)\n",
    "num_sims = 30\n",
    "print(probabilities)\n",
    "\n",
    "diversities = []\n",
    "strengths = []\n",
    "\n",
    "for prob_interracial in probabilities:\n",
    "    div_sum = 0.0\n",
    "    str_sum = 0.0\n",
    "    for _ in range(num_sims):\n",
    "        div, married, strength = runSim(50, 2, 1.0, prob_interracial)\n",
    "        div_sum += div\n",
    "        str_sum += strength\n",
    "    diversities.append(div_sum/num_sims)\n",
    "    strengths.append(str_sum/num_sims)\n",
    "\n",
    "plt.figure()\n",
    "plt.xlabel('probability of interracial connection')\n",
    "plt.ylabel('diversity')\n",
    "plt.plot(probabilities, diversities)\n",
    "plt.figure()\n",
    "plt.xlabel('probability of interracial connection')\n",
    "plt.ylabel('strengths')\n",
    "plt.plot(probabilities, strengths)\n",
    "plt.show()\n",
    "    "
   ]
  },
  {
   "cell_type": "code",
   "execution_count": null,
   "metadata": {
    "collapsed": true
   },
   "outputs": [],
   "source": []
  }
 ],
 "metadata": {
  "kernelspec": {
   "display_name": "Python 3",
   "language": "python",
   "name": "python3"
  },
  "language_info": {
   "codemirror_mode": {
    "name": "ipython",
    "version": 3
   },
   "file_extension": ".py",
   "mimetype": "text/x-python",
   "name": "python",
   "nbconvert_exporter": "python",
   "pygments_lexer": "ipython3",
   "version": "3.6.1"
  }
 },
 "nbformat": 4,
 "nbformat_minor": 2
}
